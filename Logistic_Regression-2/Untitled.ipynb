{
 "cells": [
  {
   "cell_type": "code",
   "execution_count": 13,
   "id": "a8201cc7-24fd-40cb-9ffb-d558f1d89503",
   "metadata": {},
   "outputs": [
    {
     "name": "stdout",
     "output_type": "stream",
     "text": [
      "hello\n"
     ]
    }
   ],
   "source": [
    "print('hello')"
   ]
  },
  {
   "cell_type": "code",
   "execution_count": 15,
   "id": "96707bcc-dcdd-4ced-ac49-792980674ccd",
   "metadata": {},
   "outputs": [
    {
     "name": "stdout",
     "output_type": "stream",
     "text": [
      "hello\n"
     ]
    }
   ],
   "source": [
    "print(\"hello\")"
   ]
  },
  {
   "cell_type": "code",
   "execution_count": 17,
   "id": "4f91cc49-6438-49c0-9268-7c1abee6fe73",
   "metadata": {},
   "outputs": [
    {
     "name": "stdout",
     "output_type": "stream",
     "text": [
      "hello Deepanshu\n"
     ]
    }
   ],
   "source": [
    "print('hello Deepanshu')"
   ]
  },
  {
   "cell_type": "code",
   "execution_count": 23,
   "id": "187dc414-c5ed-4154-b990-bc100356a9ce",
   "metadata": {},
   "outputs": [
    {
     "name": "stdout",
     "output_type": "stream",
     "text": [
      "hello \"Deepanshu\"\n"
     ]
    }
   ],
   "source": [
    "print('hello \"Deepanshu\"')"
   ]
  },
  {
   "cell_type": "code",
   "execution_count": 25,
   "id": "86d6c1a6-bf29-4ced-bd93-5d869b2f22be",
   "metadata": {},
   "outputs": [
    {
     "name": "stdout",
     "output_type": "stream",
     "text": [
      "'hello' Deepanshu\n"
     ]
    }
   ],
   "source": [
    "print(\"'hello' Deepanshu\")"
   ]
  },
  {
   "cell_type": "code",
   "execution_count": 27,
   "id": "1284bf52-c741-40e5-b1e9-027148edbf1e",
   "metadata": {},
   "outputs": [
    {
     "name": "stdout",
     "output_type": "stream",
     "text": [
      "hello 'Deepanshu'\n"
     ]
    }
   ],
   "source": [
    "print(\"hello 'Deepanshu'\")"
   ]
  },
  {
   "cell_type": "code",
   "execution_count": 29,
   "id": "05832aef-695d-430a-8153-fced7eda77c1",
   "metadata": {},
   "outputs": [
    {
     "name": "stdout",
     "output_type": "stream",
     "text": [
      "\"hello\" Deepanshu\n"
     ]
    }
   ],
   "source": [
    "print('\"hello\" Deepanshu')"
   ]
  },
  {
   "cell_type": "markdown",
   "id": "05e52045-deee-426f-85f1-0f9031d0c9a0",
   "metadata": {},
   "source": [
    "# Rules for making the variable"
   ]
  },
  {
   "cell_type": "code",
   "execution_count": 41,
   "id": "33de229b-fba1-4a5b-97f1-f138425fe2ee",
   "metadata": {},
   "outputs": [
    {
     "name": "stdout",
     "output_type": "stream",
     "text": [
      "x\n"
     ]
    }
   ],
   "source": [
    "x=10 # mein 10 ko store kr rhs hu x mein\n",
    "#print(x)\n",
    "print('x')\n",
    "#print(y)"
   ]
  },
  {
   "cell_type": "code",
   "execution_count": 45,
   "id": "8c6f613f-2c66-4f6c-a56e-a4c9fc2d8cfd",
   "metadata": {},
   "outputs": [
    {
     "name": "stdout",
     "output_type": "stream",
     "text": [
      "12\n"
     ]
    }
   ],
   "source": [
    "# variable name can be alpabetically\n",
    "sachin=12\n",
    "print(sachin)"
   ]
  },
  {
   "cell_type": "code",
   "execution_count": 51,
   "id": "604e373b-8f35-447d-bfb0-7a8307ed497a",
   "metadata": {},
   "outputs": [
    {
     "name": "stdout",
     "output_type": "stream",
     "text": [
      "10\n"
     ]
    }
   ],
   "source": [
    "# Variable name can be in lower or upper case\n",
    "iSHu=10\n",
    "print(iSHu)"
   ]
  },
  {
   "cell_type": "code",
   "execution_count": 53,
   "id": "2d8a863c-1f32-43d4-a28f-e114f0abc387",
   "metadata": {},
   "outputs": [
    {
     "name": "stdout",
     "output_type": "stream",
     "text": [
      "567\n"
     ]
    }
   ],
   "source": [
    "# variable nbame can be alpha numeric\n",
    "abcd123=567\n",
    "print(abcd123)"
   ]
  },
  {
   "cell_type": "code",
   "execution_count": 57,
   "id": "1c6fde7d-fd01-485b-ba8a-e06e93861b72",
   "metadata": {},
   "outputs": [
    {
     "ename": "SyntaxError",
     "evalue": "invalid decimal literal (1672100808.py, line 2)",
     "output_type": "error",
     "traceback": [
      "\u001b[1;36m  Cell \u001b[1;32mIn[57], line 2\u001b[1;36m\u001b[0m\n\u001b[1;33m    123xyz=564\u001b[0m\n\u001b[1;37m      ^\u001b[0m\n\u001b[1;31mSyntaxError\u001b[0m\u001b[1;31m:\u001b[0m invalid decimal literal\n"
     ]
    }
   ],
   "source": [
    "# variable name cant start with the numbers\n",
    "123xyz=564\n",
    "print(123xyz)"
   ]
  },
  {
   "cell_type": "code",
   "execution_count": 61,
   "id": "96c90ccf-5462-4027-b6b7-790e3ac5abf4",
   "metadata": {},
   "outputs": [
    {
     "ename": "SyntaxError",
     "evalue": "invalid syntax (3409687559.py, line 2)",
     "output_type": "error",
     "traceback": [
      "\u001b[1;36m  Cell \u001b[1;32mIn[61], line 2\u001b[1;36m\u001b[0m\n\u001b[1;33m    $abcde=7\u001b[0m\n\u001b[1;37m    ^\u001b[0m\n\u001b[1;31mSyntaxError\u001b[0m\u001b[1;31m:\u001b[0m invalid syntax\n"
     ]
    }
   ],
   "source": [
    "# variable name cant contain the special character\n",
    "$abcde=7\n",
    "print($abcde)"
   ]
  },
  {
   "cell_type": "code",
   "execution_count": 65,
   "id": "1c33046f-5b8d-40c6-8ca3-fe457f152e32",
   "metadata": {},
   "outputs": [
    {
     "name": "stdout",
     "output_type": "stream",
     "text": [
      "1\n"
     ]
    }
   ],
   "source": [
    "# in special character only underscore can contain in your variable name\n",
    "ab_c=1\n",
    "print(ab_c)"
   ]
  },
  {
   "cell_type": "code",
   "execution_count": 67,
   "id": "0cd65c68-fc97-43fb-8139-c9840aec110a",
   "metadata": {},
   "outputs": [
    {
     "name": "stdout",
     "output_type": "stream",
     "text": [
      "1\n"
     ]
    }
   ],
   "source": [
    "_=1\n",
    "print(_)"
   ]
  },
  {
   "cell_type": "code",
   "execution_count": 69,
   "id": "f3e1ea1f-38cc-4c76-86e2-909b34270347",
   "metadata": {},
   "outputs": [
    {
     "name": "stdout",
     "output_type": "stream",
     "text": [
      "9\n"
     ]
    }
   ],
   "source": [
    "_a=9\n",
    "print(_a)"
   ]
  },
  {
   "cell_type": "code",
   "execution_count": 77,
   "id": "bdd7215d-e2f8-4bd0-be9b-c62e96ffadc0",
   "metadata": {},
   "outputs": [
    {
     "ename": "SyntaxError",
     "evalue": "invalid syntax (2168735216.py, line 1)",
     "output_type": "error",
     "traceback": [
      "\u001b[1;36m  Cell \u001b[1;32mIn[77], line 1\u001b[1;36m\u001b[0m\n\u001b[1;33m    for=50\u001b[0m\n\u001b[1;37m       ^\u001b[0m\n\u001b[1;31mSyntaxError\u001b[0m\u001b[1;31m:\u001b[0m invalid syntax\n"
     ]
    }
   ],
   "source": [
    "# pre defined keyword cant be your variable name\n",
    "for=50\n",
    "print(for)"
   ]
  },
  {
   "cell_type": "code",
   "execution_count": 73,
   "id": "d6a975da-3003-4c24-b79b-5f5afb699833",
   "metadata": {},
   "outputs": [
    {
     "name": "stdout",
     "output_type": "stream",
     "text": [
      "4\n"
     ]
    }
   ],
   "source": [
    "In=4\n",
    "print(In)"
   ]
  },
  {
   "cell_type": "code",
   "execution_count": 83,
   "id": "0635eb47-c717-4e3b-bd30-1916b1bf7e36",
   "metadata": {},
   "outputs": [
    {
     "name": "stdout",
     "output_type": "stream",
     "text": [
      "The value of a is  10\n"
     ]
    }
   ],
   "source": [
    "a=10\n",
    "print('The value of a is ',a)"
   ]
  },
  {
   "cell_type": "code",
   "execution_count": 87,
   "id": "a0e3b44a-d296-4958-8a28-23b1f25c697a",
   "metadata": {},
   "outputs": [],
   "source": [
    "# Data Types\n",
    "# Integer---- int All positive to negative numbers ex: 5,-10, 45\n",
    "# Float----- float All decimal numbers are my float ex: 10.5, 9.3, -100.4\n",
    "# String----- str  Anything that i write In quotation always be my string ex: 'abcd','445','^%','abc4535.378SD'   \n",
    "# Boolean---- bool True False, "
   ]
  },
  {
   "cell_type": "code",
   "execution_count": 103,
   "id": "39154659-7e32-40f5-9095-22dcd0077374",
   "metadata": {},
   "outputs": [
    {
     "name": "stdout",
     "output_type": "stream",
     "text": [
      "The Data type of 5 is <class 'int'>\n"
     ]
    }
   ],
   "source": [
    "a=5\n",
    "print('The Data type of',a, 'is',type(a))"
   ]
  },
  {
   "cell_type": "code",
   "execution_count": 91,
   "id": "9d2ea2e9-d032-4671-96a6-fb7c5462078c",
   "metadata": {},
   "outputs": [
    {
     "name": "stdout",
     "output_type": "stream",
     "text": [
      "<class 'str'>\n"
     ]
    }
   ],
   "source": [
    "b='5.3'\n",
    "print(type(b))"
   ]
  },
  {
   "cell_type": "code",
   "execution_count": 97,
   "id": "b99e74dd-4db3-44c3-a6a0-feeafc0ba7d5",
   "metadata": {},
   "outputs": [
    {
     "name": "stdout",
     "output_type": "stream",
     "text": [
      "10 <class 'int'>\n",
      "10 <class 'str'>\n"
     ]
    }
   ],
   "source": [
    "x=10\n",
    "y='10'\n",
    "\n",
    "print(x,type(x))\n",
    "print(y,type(y))"
   ]
  },
  {
   "cell_type": "code",
   "execution_count": 99,
   "id": "5664e23e-86d2-4975-8096-a1e2b65eae4e",
   "metadata": {},
   "outputs": [
    {
     "name": "stdout",
     "output_type": "stream",
     "text": [
      "<class 'float'> 4.6\n"
     ]
    }
   ],
   "source": [
    "s=4.6\n",
    "print(type(s),s)"
   ]
  },
  {
   "cell_type": "code",
   "execution_count": 101,
   "id": "304120b5-9e5b-4ae3-b746-c514b45b7adb",
   "metadata": {},
   "outputs": [
    {
     "name": "stdout",
     "output_type": "stream",
     "text": [
      "<class 'bool'>\n"
     ]
    }
   ],
   "source": [
    "q=False\n",
    "print(type(q))"
   ]
  },
  {
   "cell_type": "code",
   "execution_count": null,
   "id": "6149f29e-8d74-4b99-9f7c-39afa45ba80e",
   "metadata": {},
   "outputs": [],
   "source": []
  }
 ],
 "metadata": {
  "kernelspec": {
   "display_name": "Python 3 (ipykernel)",
   "language": "python",
   "name": "python3"
  },
  "language_info": {
   "codemirror_mode": {
    "name": "ipython",
    "version": 3
   },
   "file_extension": ".py",
   "mimetype": "text/x-python",
   "name": "python",
   "nbconvert_exporter": "python",
   "pygments_lexer": "ipython3",
   "version": "3.12.4"
  }
 },
 "nbformat": 4,
 "nbformat_minor": 5
}
