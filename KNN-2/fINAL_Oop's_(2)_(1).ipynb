{
 "cells": [
  {
   "cell_type": "markdown",
   "id": "8267ddcf",
   "metadata": {
    "id": "8267ddcf"
   },
   "source": [
    "# Oop's (Object Orientied Programming)\n",
    "---"
   ]
  },
  {
   "cell_type": "markdown",
   "id": "3f05fbfe",
   "metadata": {
    "id": "3f05fbfe"
   },
   "source": [
    "Python is an Object Oriented Programing Language.Object orientation is a software development methodology(Programing Approach) that is based on modeling a real-world system.\n",
    "\n",
    "An object oriented program consists of classes and objects.\n",
    "\n",
    "Let us understand the terms—class and objects"
   ]
  },
  {
   "cell_type": "markdown",
   "id": "78cb1548",
   "metadata": {
    "id": "78cb1548"
   },
   "source": [
    "## Class"
   ]
  },
  {
   "cell_type": "markdown",
   "id": "a3dc321c",
   "metadata": {
    "id": "a3dc321c"
   },
   "source": [
    "What is a Python Class:-\n",
    "\n",
    "A class is a template / skeleton / blueprint for creating an object.\n"
   ]
  },
  {
   "cell_type": "markdown",
   "id": "648931d3",
   "metadata": {
    "id": "648931d3"
   },
   "source": [
    "**Picture1**.png](attachment:Picture1.png)"
   ]
  },
  {
   "cell_type": "markdown",
   "id": "66b70271",
   "metadata": {
    "id": "66b70271"
   },
   "source": [
    "In the first image (A), it represents a blueprint of a house that can be considered as Class.\n",
    "\n",
    "With the same blueprint, we can create several houses and these can be considered as Objects.\n"
   ]
  },
  {
   "cell_type": "code",
   "execution_count": null,
   "id": "dc0a2eeb",
   "metadata": {
    "id": "dc0a2eeb"
   },
   "outputs": [],
   "source": [
    "# Example of class\n",
    "class A: # Making a class\n",
    "    x=10 # Making a class variable"
   ]
  },
  {
   "cell_type": "markdown",
   "id": "350b1948",
   "metadata": {
    "id": "350b1948"
   },
   "source": [
    "## Object"
   ]
  },
  {
   "cell_type": "markdown",
   "id": "b859c74a",
   "metadata": {
    "id": "b859c74a"
   },
   "source": [
    "![Picture1.png](attachment:Picture1.png)"
   ]
  },
  {
   "cell_type": "markdown",
   "id": "cd57a3e3",
   "metadata": {
    "id": "cd57a3e3"
   },
   "source": [
    "- In the first image (A), it represents a blueprint of a house that can be considered as Class.\n",
    "- And In the second image (B), it represents the House which means we can create a several several objects (Houses) with in the same blueprint (Class)"
   ]
  },
  {
   "cell_type": "code",
   "execution_count": null,
   "id": "137b160f",
   "metadata": {
    "id": "137b160f",
    "outputId": "9a0518f9-9345-467c-e709-589181456ae9"
   },
   "outputs": [
    {
     "name": "stdout",
     "output_type": "stream",
     "text": [
      "10\n",
      "<__main__.A object at 0x0000019241A669D0>\n",
      "<__main__.A object at 0x0000019241A66EB0>\n"
     ]
    }
   ],
   "source": [
    "class A: #Making a class\n",
    "    x=10 # class vaiable\n",
    "    print(x)\n",
    "\n",
    "obj1=A() # Making an object1\n",
    "print(obj1)\n",
    "#It gives Address in hexadecimal because we haven't create a instance variable\n",
    "obj2=A() #Making an object 2\n",
    "print(obj2)\n",
    "# #It gives Address in hexadecimal because we haven't create a instance variable"
   ]
  },
  {
   "cell_type": "markdown",
   "id": "d5c3d1b8",
   "metadata": {
    "id": "d5c3d1b8"
   },
   "source": [
    "## Constructor and Self Variable"
   ]
  },
  {
   "cell_type": "markdown",
   "id": "14a6fa28",
   "metadata": {
    "id": "14a6fa28"
   },
   "source": [
    "- Constructor is responsible for assigining the values to the data members of the class when a obect of the class is created\n",
    "- self is the default variable whcih is always pointing to current object. By using self we can access instance variables and insatnce method of object"
   ]
  },
  {
   "cell_type": "markdown",
   "id": "afc24a8c",
   "metadata": {
    "id": "afc24a8c"
   },
   "source": [
    "### Note\n",
    "- self should be a first parameter Inside constructor\n",
    "   1. def __init__(self):\n",
    "- self should  be first inside instance methods\n",
    "    2. def __init__(self):\n"
   ]
  },
  {
   "cell_type": "code",
   "execution_count": null,
   "id": "5beb61a2",
   "metadata": {
    "id": "5beb61a2",
    "outputId": "ae273bb0-a20c-43fd-f85e-614f9598fc14"
   },
   "outputs": [
    {
     "name": "stdout",
     "output_type": "stream",
     "text": [
      "10\n",
      "<__main__.A object at 0x0000019241A66A90>\n"
     ]
    }
   ],
   "source": [
    "class A: # Making a class\n",
    "    x=10 #class variable\n",
    "    def __init__(self,name):\n",
    "        # it is a constructor and inside in it is a self variable\n",
    "        self.name=name\n",
    "        # it is a instance variable\n",
    "        print(self.name)\n",
    "\n",
    "obj1=A('Deepanshu')\n",
    "# creating an object which denotes the class and access the instance variables\n",
    "print(obj1) # it gives Address"
   ]
  },
  {
   "cell_type": "markdown",
   "id": "a34f3bc0",
   "metadata": {
    "id": "a34f3bc0"
   },
   "source": [
    "## Methods"
   ]
  },
  {
   "cell_type": "markdown",
   "id": "7073c2f6",
   "metadata": {
    "id": "7073c2f6"
   },
   "source": [
    "Methods are the functions that we use to describe the behavior of the objects. They are also defined inside a class."
   ]
  },
  {
   "cell_type": "markdown",
   "id": "0a42728d",
   "metadata": {
    "id": "0a42728d"
   },
   "source": [
    "![Picture4.jpg](attachment:Picture4.jpg)"
   ]
  },
  {
   "cell_type": "code",
   "execution_count": null,
   "id": "ba38056b",
   "metadata": {
    "id": "ba38056b",
    "outputId": "1c5113b9-13d9-4b74-8843-6956b5dc8a4e"
   },
   "outputs": [
    {
     "name": "stdout",
     "output_type": "stream",
     "text": [
      "the car is Mercedes and its milleage is 12KM/hr\n",
      "the car Mercedes maximum speed is 280 \n",
      "\n"
     ]
    }
   ],
   "source": [
    "# Complete Program of Oops concept\n",
    "class car: # Making a class\n",
    "    car_type='sedan'  # Making a Class Variable\n",
    "    def __init__(self,name,milleage):\n",
    "        # it is a constructor and inside in it is a self variable\n",
    "        self.name=name # instance Variable\n",
    "        self.milleage=milleage # instance variable\n",
    "    def description(self): # method\n",
    "        # It is a Method and inside in it it is a self varibale\n",
    "        return f'the car is {self.name} and its milleage is {self.milleage}KM/hr'\n",
    "\n",
    "    def max_speed(self,speed):\n",
    "        return f'the car {self.name} maximum speed is {speed}'\n",
    "\n",
    "Mercedes=car('Mercedes',12) # creating an object of a class\n",
    "print(Mercedes.description()) # Calling an method\n",
    "print(Mercedes.max_speed(280),'\\n') # Calling an method\n",
    "\n",
    "\n",
    "BMW=car('BMW',16)\n",
    "print(BMW.description())\n",
    "print(BMW.max_speed(260),'\\n')\n",
    "\n",
    "Audi=car('Audi',16)\n",
    "print(Audi.description())\n",
    "print(Audi.max_speed(230),'\\n')\n",
    "\n"
   ]
  },
  {
   "cell_type": "code",
   "execution_count": null,
   "id": "7094cd3c",
   "metadata": {
    "colab": {
     "base_uri": "https://localhost:8080/",
     "height": 484
    },
    "id": "7094cd3c",
    "outputId": "3655c110-7b08-4f18-e2a6-8e4266b8b013"
   },
   "outputs": [
    {
     "name": "stdout",
     "output_type": "stream",
     "text": [
      "\n",
      "        press 1 to create pin\n",
      "        press 2 for Deposit\n",
      "        press 3 for withdrawl\n",
      "        press 4 for check balance\n",
      "        press 5 for exit\n",
      "        \n",
      "        1\n"
     ]
    },
    {
     "ename": "TypeError",
     "evalue": "ignored",
     "output_type": "error",
     "traceback": [
      "\u001b[0;31m---------------------------------------------------------------------------\u001b[0m",
      "\u001b[0;31mTypeError\u001b[0m                                 Traceback (most recent call last)",
      "\u001b[0;32m<ipython-input-2-1694492b3b5a>\u001b[0m in \u001b[0;36m<module>\u001b[0;34m\u001b[0m\n\u001b[1;32m     54\u001b[0m \u001b[0;34m\u001b[0m\u001b[0m\n\u001b[1;32m     55\u001b[0m \u001b[0;34m\u001b[0m\u001b[0m\n\u001b[0;32m---> 56\u001b[0;31m \u001b[0msbi\u001b[0m\u001b[0;34m=\u001b[0m\u001b[0mAtm\u001b[0m\u001b[0;34m(\u001b[0m\u001b[0;34m)\u001b[0m\u001b[0;34m\u001b[0m\u001b[0;34m\u001b[0m\u001b[0m\n\u001b[0m",
      "\u001b[0;32m<ipython-input-2-1694492b3b5a>\u001b[0m in \u001b[0;36m__init__\u001b[0;34m(self)\u001b[0m\n\u001b[1;32m      3\u001b[0m         \u001b[0mself\u001b[0m\u001b[0;34m.\u001b[0m\u001b[0mbalance\u001b[0m\u001b[0;34m=\u001b[0m\u001b[0;36m0\u001b[0m\u001b[0;34m\u001b[0m\u001b[0;34m\u001b[0m\u001b[0m\n\u001b[1;32m      4\u001b[0m         \u001b[0mself\u001b[0m\u001b[0;34m.\u001b[0m\u001b[0mcreate_pin\u001b[0m\u001b[0;34m=\u001b[0m\u001b[0;34m''\u001b[0m\u001b[0;34m\u001b[0m\u001b[0;34m\u001b[0m\u001b[0m\n\u001b[0;32m----> 5\u001b[0;31m         \u001b[0mself\u001b[0m\u001b[0;34m.\u001b[0m\u001b[0mmenu\u001b[0m\u001b[0;34m(\u001b[0m\u001b[0;34m)\u001b[0m\u001b[0;34m\u001b[0m\u001b[0;34m\u001b[0m\u001b[0m\n\u001b[0m\u001b[1;32m      6\u001b[0m     \u001b[0;32mdef\u001b[0m \u001b[0mmenu\u001b[0m\u001b[0;34m(\u001b[0m\u001b[0mself\u001b[0m\u001b[0;34m)\u001b[0m\u001b[0;34m:\u001b[0m\u001b[0;34m\u001b[0m\u001b[0;34m\u001b[0m\u001b[0m\n\u001b[1;32m      7\u001b[0m         user_input=input('''\n",
      "\u001b[0;32m<ipython-input-2-1694492b3b5a>\u001b[0m in \u001b[0;36mmenu\u001b[0;34m(self)\u001b[0m\n\u001b[1;32m     14\u001b[0m         ''')\n\u001b[1;32m     15\u001b[0m         \u001b[0;32mif\u001b[0m \u001b[0muser_input\u001b[0m\u001b[0;34m==\u001b[0m\u001b[0;34m'1'\u001b[0m\u001b[0;34m:\u001b[0m\u001b[0;34m\u001b[0m\u001b[0;34m\u001b[0m\u001b[0m\n\u001b[0;32m---> 16\u001b[0;31m             \u001b[0mself\u001b[0m\u001b[0;34m.\u001b[0m\u001b[0mcreate_pin\u001b[0m\u001b[0;34m(\u001b[0m\u001b[0;34m)\u001b[0m\u001b[0;34m\u001b[0m\u001b[0;34m\u001b[0m\u001b[0m\n\u001b[0m\u001b[1;32m     17\u001b[0m         \u001b[0;32melif\u001b[0m \u001b[0muser_input\u001b[0m\u001b[0;34m==\u001b[0m\u001b[0;34m'2'\u001b[0m\u001b[0;34m:\u001b[0m\u001b[0;34m\u001b[0m\u001b[0;34m\u001b[0m\u001b[0m\n\u001b[1;32m     18\u001b[0m             \u001b[0mself\u001b[0m\u001b[0;34m.\u001b[0m \u001b[0mdeposit\u001b[0m\u001b[0;34m(\u001b[0m\u001b[0;34m)\u001b[0m\u001b[0;34m\u001b[0m\u001b[0;34m\u001b[0m\u001b[0m\n",
      "\u001b[0;31mTypeError\u001b[0m: 'str' object is not callable"
     ]
    }
   ],
   "source": [
    "class Atm:\n",
    "    def __init__(self):\n",
    "        self.balance=0\n",
    "        self.create_pin=''\n",
    "        self.menu()\n",
    "    def menu(self):\n",
    "        user_input=input('''\n",
    "        press 1 to create pin\n",
    "        press 2 for Deposit\n",
    "        press 3 for withdrawl\n",
    "        press 4 for check balance\n",
    "        press 5 for exit\n",
    "\n",
    "        ''')\n",
    "        if user_input=='1':\n",
    "            self.create_pin()\n",
    "        elif user_input=='2':\n",
    "            self. deposit()\n",
    "        elif user_input=='3':\n",
    "            self.withdrawl()\n",
    "        elif user_input=='4':\n",
    "            self.check_balance()\n",
    "        else:\n",
    "            print('bye')\n",
    "\n",
    "    def create_pin(self):\n",
    "        self.pin=input('enter your pin ')\n",
    "        self.pin=self.pin+self.create_pin\n",
    "\n",
    "    def deposit(self):\n",
    "        temp=input('enter your pin')\n",
    "        if temp==self.create_pin:\n",
    "            amt=int(input('enter your amount to deposit'))\n",
    "            self.balance=self.balance+amt\n",
    "        else:\n",
    "            print('incorrect pin')\n",
    "    def withdrawl(self):\n",
    "        temp=input('enter your pin')\n",
    "        if temp==self.create_pin:\n",
    "            amt=int(input('enter your amount to withdrawl'))\n",
    "            if amt<self.balance:\n",
    "                self.balance=self.balance-amt\n",
    "            else:\n",
    "                print('insufficient amount')\n",
    "        else:\n",
    "            print('incorrect pin')\n",
    "    def check_balance(self):\n",
    "        temp=input('enter your pin')\n",
    "        if temp==self.create_pin:\n",
    "            print('your current balance is',self.balance)\n",
    "        else:\n",
    "            print('incorrect pin')\n",
    "\n",
    "\n",
    "\n",
    "sbi=Atm()"
   ]
  },
  {
   "cell_type": "code",
   "execution_count": null,
   "id": "7f106183",
   "metadata": {
    "id": "7f106183",
    "outputId": "95f5364f-1f73-4ecc-8711-34504019ab88"
   },
   "outputs": [
    {
     "name": "stdout",
     "output_type": "stream",
     "text": [
      "<class '__main__.D'>\n"
     ]
    }
   ],
   "source": [
    "print(type(OB))"
   ]
  },
  {
   "cell_type": "code",
   "execution_count": null,
   "id": "3271739c",
   "metadata": {
    "id": "3271739c",
    "outputId": "f99d58ff-c8fb-42ca-e886-cb57af22d1d5"
   },
   "outputs": [
    {
     "name": "stdout",
     "output_type": "stream",
     "text": [
      "1932439305472\n"
     ]
    },
    {
     "ename": "NameError",
     "evalue": "name 'self' is not defined",
     "output_type": "error",
     "traceback": [
      "\u001b[1;31m---------------------------------------------------------------------------\u001b[0m",
      "\u001b[1;31mNameError\u001b[0m                                 Traceback (most recent call last)",
      "\u001b[1;32m<ipython-input-16-05f34c5b0dfe>\u001b[0m in \u001b[0;36m<module>\u001b[1;34m\u001b[0m\n\u001b[0;32m      1\u001b[0m \u001b[0mprint\u001b[0m\u001b[1;33m(\u001b[0m\u001b[0mid\u001b[0m\u001b[1;33m(\u001b[0m\u001b[0mOB\u001b[0m\u001b[1;33m)\u001b[0m\u001b[1;33m)\u001b[0m\u001b[1;33m\u001b[0m\u001b[1;33m\u001b[0m\u001b[0m\n\u001b[1;32m----> 2\u001b[1;33m \u001b[0mprint\u001b[0m\u001b[1;33m(\u001b[0m\u001b[0mid\u001b[0m\u001b[1;33m(\u001b[0m\u001b[0mself\u001b[0m\u001b[1;33m)\u001b[0m\u001b[1;33m)\u001b[0m\u001b[1;33m\u001b[0m\u001b[1;33m\u001b[0m\u001b[0m\n\u001b[0m",
      "\u001b[1;31mNameError\u001b[0m: name 'self' is not defined"
     ]
    }
   ],
   "source": [
    "print(id(OB))\n",
    "print(id(self))"
   ]
  },
  {
   "cell_type": "markdown",
   "id": "7f0bcb47",
   "metadata": {
    "id": "7f0bcb47"
   },
   "source": [
    "## Oop's properties"
   ]
  },
  {
   "cell_type": "markdown",
   "id": "2841ae8b",
   "metadata": {
    "id": "2841ae8b"
   },
   "source": [
    "- Inheritance\n",
    "- Encapsulation\n",
    "- polymmorphism\n",
    "- Abstraction"
   ]
  },
  {
   "cell_type": "markdown",
   "id": "485af4c2",
   "metadata": {
    "id": "485af4c2"
   },
   "source": [
    "## Inheritance"
   ]
  },
  {
   "cell_type": "markdown",
   "id": "00486171",
   "metadata": {
    "id": "00486171"
   },
   "source": [
    "Inheritance is the property in which one class inherits the attributes and methods of another class. whose properties and methods are inherited is known as Parent class. And the class that inherits the properties from the parent class is the Child class."
   ]
  },
  {
   "cell_type": "markdown",
   "id": "0714db96",
   "metadata": {
    "id": "0714db96"
   },
   "source": [
    "![Capture.PNG](attachment:Capture.PNG)\n",
    "\n",
    "In this above diagram we can see that Class B inherits the Class AIn this above diagram we can see that Class B inherits the Class A"
   ]
  },
  {
   "cell_type": "markdown",
   "id": "722034c9",
   "metadata": {
    "id": "722034c9"
   },
   "source": [
    "It also allows programmer to write better code. Using inheritance you can inherit all access data fields and methods, plus you can add your own methods and fields, thus inheritance provide a way to organize code, rather than rewriting it from scratch."
   ]
  },
  {
   "cell_type": "markdown",
   "id": "4752cc3a",
   "metadata": {
    "id": "4752cc3a"
   },
   "source": [
    "![Capture.1PNG.PNG](attachment:Capture.1PNG.PNG)"
   ]
  },
  {
   "cell_type": "code",
   "execution_count": null,
   "id": "f77f1b5f",
   "metadata": {
    "id": "f77f1b5f",
    "outputId": "458178b8-a816-466a-d92f-1e2a49e8758c"
   },
   "outputs": [
    {
     "name": "stdout",
     "output_type": "stream",
     "text": [
      "the milleage of the creta is 12\n",
      "the maximum speed of this car is 300\n",
      "the milleage of the Q7 is 15\n",
      "this is an description of Bus class\n",
      "the milleage of the Indian Railway is 8\n"
     ]
    }
   ],
   "source": [
    "class Vehicle: #Parent class or Base class\n",
    "    def __init__(self,name,milleage):\n",
    "        self.name=name\n",
    "        self.milleage=milleage\n",
    "\n",
    "    def description(self):\n",
    "        return f'the milleage of the {self.name} is {self.milleage}'\n",
    "\n",
    "class Car(Vehicle): # Child class or Derived class\n",
    "    def max_speed(self,speed):\n",
    "        return f'the maximum speed of this car is {speed}'\n",
    "\n",
    "class Bus(Vehicle):\n",
    "    def show(self):\n",
    "        return 'this is an description of Bus class'\n",
    "\n",
    "class Train(Vehicle):\n",
    "    pass\n",
    "\n",
    "obj1=Car('creta',12) # Making object of an Child class\n",
    "print(obj1.description()) # here it inherits the properties of Parent class\n",
    "print(obj1.max_speed(300)) # it is the method of Child class\n",
    "\n",
    "# print()\n",
    "\n",
    "obj1=Bus('Q7',15)\n",
    "print(obj1.description())\n",
    "print(obj1.show())\n",
    "\n",
    "# print()\n",
    "\n",
    "obj1=Train('Indian Railway',8)\n",
    "print(obj1.description())\n",
    "\n"
   ]
  },
  {
   "cell_type": "markdown",
   "id": "4ff4d119",
   "metadata": {
    "id": "4ff4d119"
   },
   "source": [
    "## Encapsulation"
   ]
  },
  {
   "cell_type": "markdown",
   "id": "734eb850",
   "metadata": {
    "id": "734eb850"
   },
   "source": [
    "![Capture2.PNG](attachment:Capture2.PNG)"
   ]
  },
  {
   "cell_type": "markdown",
   "id": "287f9acd",
   "metadata": {
    "id": "287f9acd"
   },
   "source": [
    "Encapsulation in python is a process of wrapping code and data together into a single unit. which means it is a way to ensure security. Basically it hides the variable from the access outsider's by using single_(underscore) before the variable name to make it protected and __(double underscore) before the variable to make it private"
   ]
  },
  {
   "cell_type": "code",
   "execution_count": null,
   "id": "d8ca91c6",
   "metadata": {
    "id": "d8ca91c6",
    "outputId": "54e5cebe-0251-45ec-ac2b-4f8e564cdf48"
   },
   "outputs": [
    {
     "name": "stdout",
     "output_type": "stream",
     "text": [
      "BMW\n",
      "12\n"
     ]
    }
   ],
   "source": [
    "class Car:\n",
    "    def __init__(self,name,milleage,color):\n",
    "        self._name=name #Protected Variable\n",
    "        self.milleage=milleage #Public Variable\n",
    "        self.__color=color #Private Vaiable\n",
    "\n",
    "    def description(self):\n",
    "        return f'this car name is {self._name} and its color is {self.__color} and gives a milleage of {self.milleage}'\n",
    "\n",
    "    def max_speed(self,speed):\n",
    "        return f\"its  maximum speed is{speed}\"\n",
    "\n",
    "\n",
    "# obj1=Car('BMW',12,'grey')\n",
    "# print(obj1.description())\n",
    "# print(obj1.max_speed(300))\n",
    "\n",
    "# Accessing the protected and public variable outside of the class\n",
    "print(obj1._name)\n",
    "print(obj1.milleage)"
   ]
  },
  {
   "cell_type": "code",
   "execution_count": null,
   "id": "45ff649c",
   "metadata": {
    "id": "45ff649c",
    "outputId": "04611bfd-8b63-4168-842b-e948bf06df72"
   },
   "outputs": [
    {
     "ename": "AttributeError",
     "evalue": "'Car' object has no attribute '__color'",
     "output_type": "error",
     "traceback": [
      "\u001b[1;31m---------------------------------------------------------------------------\u001b[0m",
      "\u001b[1;31mAttributeError\u001b[0m                            Traceback (most recent call last)",
      "\u001b[1;32m<ipython-input-5-0402b1cb8126>\u001b[0m in \u001b[0;36m<module>\u001b[1;34m\u001b[0m\n\u001b[0;32m      1\u001b[0m \u001b[1;31m# Accessing the private variable from outside of the class\u001b[0m\u001b[1;33m\u001b[0m\u001b[1;33m\u001b[0m\u001b[1;33m\u001b[0m\u001b[0m\n\u001b[1;32m----> 2\u001b[1;33m \u001b[0mprint\u001b[0m\u001b[1;33m(\u001b[0m\u001b[0mobj1\u001b[0m\u001b[1;33m.\u001b[0m\u001b[0m__color\u001b[0m\u001b[1;33m)\u001b[0m\u001b[1;33m\u001b[0m\u001b[1;33m\u001b[0m\u001b[0m\n\u001b[0m\u001b[0;32m      3\u001b[0m \u001b[1;31m#we cannot acces the private variable outside of the class\u001b[0m\u001b[1;33m\u001b[0m\u001b[1;33m\u001b[0m\u001b[1;33m\u001b[0m\u001b[0m\n",
      "\u001b[1;31mAttributeError\u001b[0m: 'Car' object has no attribute '__color'"
     ]
    }
   ],
   "source": [
    "# Accessing the private variable from outside of the class\n",
    "print(obj1.__color)\n",
    "#we cannot acces the private variable outside of the class"
   ]
  },
  {
   "cell_type": "markdown",
   "id": "122644b3",
   "metadata": {
    "id": "122644b3"
   },
   "source": [
    "Name Mangling is the mechanism to acces the Private variable from outside of the class"
   ]
  },
  {
   "cell_type": "code",
   "execution_count": null,
   "id": "271f4ef8",
   "metadata": {
    "id": "271f4ef8",
    "outputId": "595f7975-747e-441a-f16a-51badc94e31b"
   },
   "outputs": [
    {
     "name": "stdout",
     "output_type": "stream",
     "text": [
      "grey\n"
     ]
    }
   ],
   "source": [
    "#Accessing Private variable from outside of the class\n",
    "print(obj1._Car__color) # Mangled name"
   ]
  },
  {
   "cell_type": "markdown",
   "id": "24e13b3d",
   "metadata": {
    "id": "24e13b3d"
   },
   "source": [
    "## Polymorphism"
   ]
  },
  {
   "cell_type": "markdown",
   "id": "bce1fff6",
   "metadata": {
    "id": "bce1fff6"
   },
   "source": [
    "The word Poly mean's many and morph mean's form.Which means Polymorphism is the ability of any data to be processed in more than one form."
   ]
  },
  {
   "cell_type": "markdown",
   "id": "d57eb9eb",
   "metadata": {
    "id": "d57eb9eb"
   },
   "source": [
    "### Example\n",
    "- A Teacher can take a form of Sport Teacher or Language Teacher and in both the forms it has the same functionality Teach, but the implementation of Teach varies in both the objects."
   ]
  },
  {
   "cell_type": "code",
   "execution_count": null,
   "id": "0581cb11",
   "metadata": {
    "id": "0581cb11",
    "outputId": "3e4eed8a-9b7a-4a6e-d1d8-0133340a453f"
   },
   "outputs": [
    {
     "name": "stdout",
     "output_type": "stream",
     "text": [
      "this is an description of Audi class\n",
      "This is an description of BMW class\n"
     ]
    }
   ],
   "source": [
    "class Audi:\n",
    "    def description(self):\n",
    "        print('this is an description of Audi class')\n",
    "class BMW:\n",
    "    def description(self):\n",
    "        print('This is an description of BMW class')\n",
    "obj_Audi=Audi()\n",
    "obj_Audi.description()\n",
    "\n",
    "obj_BMW=BMW()\n",
    "obj_BMW.description()\n"
   ]
  },
  {
   "cell_type": "code",
   "execution_count": null,
   "id": "b3b4d73b",
   "metadata": {
    "id": "b3b4d73b",
    "outputId": "291d74d7-2303-47e5-d413-dfd61d8f26b4"
   },
   "outputs": [
    {
     "name": "stdout",
     "output_type": "stream",
     "text": [
      "Vegetable\n"
     ]
    }
   ],
   "source": [
    "class Tomato:\n",
    "    def category(self):\n",
    "        print(\"Vegetable\")\n",
    "    def color(self):\n",
    "        print(\"orange\")\n",
    "class Apple:\n",
    "    def category(self):\n",
    "        print(\"Fruit\")\n",
    "    def color(self):\n",
    "        print(\"Red\")\n",
    "\n",
    "tom=Tomato()\n",
    "app=Apple()\n",
    "tom.category()\n"
   ]
  },
  {
   "cell_type": "code",
   "execution_count": null,
   "id": "82f0d505",
   "metadata": {
    "id": "82f0d505",
    "outputId": "031727a4-f771-4be5-8cdb-a5d09f660548"
   },
   "outputs": [
    {
     "name": "stdout",
     "output_type": "stream",
     "text": [
      "Vegetable\n",
      "orange\n",
      "Fruit\n",
      "Red\n"
     ]
    }
   ],
   "source": [
    "for i in (tom,app):\n",
    "    i.category()\n",
    "    i.color()"
   ]
  },
  {
   "cell_type": "code",
   "execution_count": null,
   "id": "ddf1f4d7",
   "metadata": {
    "id": "ddf1f4d7"
   },
   "outputs": [],
   "source": []
  },
  {
   "cell_type": "markdown",
   "id": "b8eb80ee",
   "metadata": {
    "id": "b8eb80ee"
   },
   "source": [
    "### Ploymorphism with inheritance"
   ]
  },
  {
   "cell_type": "code",
   "execution_count": null,
   "id": "9d047996",
   "metadata": {
    "id": "9d047996",
    "outputId": "818a6f64-17c3-48ab-ceb7-5fb8ff92b50b"
   },
   "outputs": [
    {
     "name": "stdout",
     "output_type": "stream",
     "text": [
      "There are many types of birds.\n",
      "Most of the birds can fly but some cannot.\n",
      "There are many types of birds.\n",
      "Sparrows can fly.\n",
      "There are many types of birds.\n",
      "Ostriches cannot fly.\n"
     ]
    }
   ],
   "source": [
    "class Bird:\n",
    "    def intro(self):\n",
    "        print(\"There are many types of birds.\")\n",
    "\n",
    "    def flight(self):\n",
    "        print(\"Most of the birds can fly but some cannot.\")\n",
    "\n",
    "class sparrow(Bird):\n",
    "    def flight(self):\n",
    "        print(\"Sparrows can fly.\")\n",
    "\n",
    "class ostrich(Bird):\n",
    "    def flight(self):\n",
    "        print(\"Ostriches cannot fly.\")\n",
    "\n",
    "# Polymorphism cencept\n",
    "\n",
    "obj_bird = Bird()\n",
    "obj_spr = sparrow()\n",
    "obj_ost = ostrich()\n",
    "\n",
    "obj_bird.intro()\n",
    "obj_bird.flight()\n",
    "\n",
    "obj_spr.intro()\n",
    "obj_spr.flight()\n",
    "\n",
    "obj_ost.intro()\n",
    "obj_ost.flight()\n"
   ]
  },
  {
   "cell_type": "markdown",
   "id": "8ea59274",
   "metadata": {
    "id": "8ea59274"
   },
   "source": [
    "## Abstraction"
   ]
  },
  {
   "cell_type": "markdown",
   "id": "6de4e8a8",
   "metadata": {
    "id": "6de4e8a8"
   },
   "source": [
    "![Capture3.PNG](attachment:Capture3.PNG)"
   ]
  },
  {
   "cell_type": "markdown",
   "id": "f2b682ff",
   "metadata": {
    "id": "f2b682ff"
   },
   "source": [
    "Abstraction in python is defined as a process of handling complexity by hiding unnecessary details from the user. which means we hides the internal functionality of the function from the users or we can say that we just hides the class from abstraction method"
   ]
  },
  {
   "cell_type": "code",
   "execution_count": null,
   "id": "0069bb17",
   "metadata": {
    "id": "0069bb17",
    "outputId": "da4b4c49-b02a-42c2-9852-acf78e892bba"
   },
   "outputs": [
    {
     "name": "stdout",
     "output_type": "stream",
     "text": [
      "the car name is BMW and its price is5000000 \n"
     ]
    }
   ],
   "source": [
    "from abc import ABC, abstractmethod\n",
    "# Here Car is the abstract class that inherits from the ABC class from the abc module\n",
    "class Car(ABC):\n",
    "    def __init__(self,name):\n",
    "        self.name=name\n",
    "    @abstractmethod   # abstract method price\n",
    "    def description(self,price):\n",
    "        print('the price of car')\n",
    "\n",
    "class Audi(Car):\n",
    "#     pass\n",
    "    def description(self,price):\n",
    "        return f'the car name is {self.name} and its price is{price} '\n",
    "\n",
    "obj1=Audi('BMW')\n",
    "print(obj1.description(5000000))"
   ]
  },
  {
   "cell_type": "code",
   "execution_count": null,
   "id": "667ab2a7",
   "metadata": {
    "id": "667ab2a7",
    "outputId": "66d93038-2c64-4463-982a-8fa66975e900"
   },
   "outputs": [
    {
     "name": "stdout",
     "output_type": "stream",
     "text": [
      "the car name is BMW and its price is5000000 \n"
     ]
    }
   ],
   "source": [
    "from abc import ABC, abstractmethod\n",
    "# Here Car is the abstract class that inherits from the ABC class from the abc module\n",
    "class Car(ABC):\n",
    "    def __init__(self,name):\n",
    "        self.name=name\n",
    "    @abstractmethod   # abstract method price\n",
    "    def description(self,price):\n",
    "        pass\n",
    "\n",
    "class Audi(Car):\n",
    "    pass\n",
    "#     def description(self,price):\n",
    "#         return f'the car name is {self.name} and its price is{price} '\n",
    "# obc=Car('crreta')\n",
    "obj1=Audi('BMW')\n",
    "print(obj1.description(5000000))"
   ]
  },
  {
   "cell_type": "code",
   "execution_count": null,
   "id": "ae2e2443",
   "metadata": {
    "id": "ae2e2443"
   },
   "outputs": [],
   "source": [
    "# By abstraction we hide the abstract class"
   ]
  },
  {
   "cell_type": "code",
   "execution_count": 1,
   "id": "027e5194",
   "metadata": {
    "id": "027e5194"
   },
   "outputs": [],
   "source": [
    "class shape:\n",
    "    def area(self):\n",
    "        pass\n",
    "    def perimeter(self):\n",
    "        pass\n"
   ]
  },
  {
   "cell_type": "code",
   "execution_count": 3,
   "id": "25bec4c5",
   "metadata": {
    "id": "25bec4c5"
   },
   "outputs": [],
   "source": [
    "class square(shape):\n",
    "    def __init__(self,s):\n",
    "        self.side=s\n"
   ]
  },
  {
   "cell_type": "code",
   "execution_count": 5,
   "id": "4fbc5af3",
   "metadata": {
    "id": "4fbc5af3"
   },
   "outputs": [],
   "source": [
    "s=square(5)"
   ]
  },
  {
   "cell_type": "code",
   "execution_count": 7,
   "id": "72c71f5d",
   "metadata": {
    "id": "72c71f5d"
   },
   "outputs": [],
   "source": [
    "sh=shape()"
   ]
  },
  {
   "cell_type": "code",
   "execution_count": null,
   "id": "43c8bf75",
   "metadata": {
    "id": "43c8bf75"
   },
   "outputs": [],
   "source": [
    "## Using the abstraction"
   ]
  },
  {
   "cell_type": "code",
   "execution_count": 17,
   "id": "73c91488",
   "metadata": {
    "id": "73c91488"
   },
   "outputs": [],
   "source": [
    "from abc import ABC, abstractmethod # ABC  stands for abstract base class\n",
    "class shape(ABC):\n",
    "    @abstractmethod\n",
    "    def area(self):\n",
    "        pass\n",
    "    @abstractmethod\n",
    "    def perimeter(self):\n",
    "        pass\n"
   ]
  },
  {
   "cell_type": "code",
   "execution_count": 19,
   "id": "8a0eeada",
   "metadata": {
    "id": "8a0eeada"
   },
   "outputs": [],
   "source": [
    "class square(shape):\n",
    "    def __init__(self,s):\n",
    "        self.side=s\n"
   ]
  },
  {
   "cell_type": "code",
   "execution_count": 21,
   "id": "e59e9514",
   "metadata": {
    "id": "e59e9514",
    "outputId": "1cd9f202-85c1-471a-d8e9-7d485faf1919"
   },
   "outputs": [
    {
     "ename": "TypeError",
     "evalue": "Can't instantiate abstract class shape without an implementation for abstract methods 'area', 'perimeter'",
     "output_type": "error",
     "traceback": [
      "\u001b[1;31m---------------------------------------------------------------------------\u001b[0m",
      "\u001b[1;31mTypeError\u001b[0m                                 Traceback (most recent call last)",
      "Cell \u001b[1;32mIn[21], line 1\u001b[0m\n\u001b[1;32m----> 1\u001b[0m sh\u001b[38;5;241m=\u001b[39mshape()\n",
      "\u001b[1;31mTypeError\u001b[0m: Can't instantiate abstract class shape without an implementation for abstract methods 'area', 'perimeter'"
     ]
    }
   ],
   "source": [
    "sh=shape() # now our class is hide we can't make the object of our parent class"
   ]
  },
  {
   "cell_type": "code",
   "execution_count": 23,
   "id": "13538606",
   "metadata": {
    "id": "13538606"
   },
   "outputs": [
    {
     "ename": "TypeError",
     "evalue": "Can't instantiate abstract class square without an implementation for abstract methods 'area', 'perimeter'",
     "output_type": "error",
     "traceback": [
      "\u001b[1;31m---------------------------------------------------------------------------\u001b[0m",
      "\u001b[1;31mTypeError\u001b[0m                                 Traceback (most recent call last)",
      "Cell \u001b[1;32mIn[23], line 1\u001b[0m\n\u001b[1;32m----> 1\u001b[0m s\u001b[38;5;241m=\u001b[39msquare(\u001b[38;5;241m5\u001b[39m)\n",
      "\u001b[1;31mTypeError\u001b[0m: Can't instantiate abstract class square without an implementation for abstract methods 'area', 'perimeter'"
     ]
    }
   ],
   "source": [
    "s=square(5) # and we can't use the method of parent class"
   ]
  },
  {
   "cell_type": "code",
   "execution_count": 25,
   "id": "c66922c0",
   "metadata": {
    "id": "c66922c0"
   },
   "outputs": [],
   "source": [
    "## for using the abstract method of parent class we have to"
   ]
  },
  {
   "cell_type": "code",
   "execution_count": 68,
   "id": "3ee537dc",
   "metadata": {
    "id": "3ee537dc"
   },
   "outputs": [],
   "source": [
    "from abc import ABC, abstractmethod\n",
    "class shape(ABC):\n",
    "    @abstractmethod\n",
    "    def area1(self):\n",
    "        pass\n",
    "        print('it is a area method')\n",
    "    @abstractmethod\n",
    "    def perimeter1(self):\n",
    "\n",
    "        print('it is a perimeter method')\n",
    "\n",
    "class square(shape):\n",
    "    def __init__(self,s):\n",
    "        self.side=s\n",
    "    def area(self):\n",
    "        return self.side*self.side\n",
    "    def perimeter(self):\n",
    "        return 4*self.side"
   ]
  },
  {
   "cell_type": "code",
   "execution_count": 70,
   "id": "6abd1168",
   "metadata": {
    "id": "6abd1168",
    "outputId": "5886e15f-b6be-42f2-b2e0-0f7a11da1d29"
   },
   "outputs": [
    {
     "ename": "TypeError",
     "evalue": "Can't instantiate abstract class shape without an implementation for abstract methods 'area1', 'perimeter1'",
     "output_type": "error",
     "traceback": [
      "\u001b[1;31m---------------------------------------------------------------------------\u001b[0m",
      "\u001b[1;31mTypeError\u001b[0m                                 Traceback (most recent call last)",
      "Cell \u001b[1;32mIn[70], line 1\u001b[0m\n\u001b[1;32m----> 1\u001b[0m sh\u001b[38;5;241m=\u001b[39mshape()\n",
      "\u001b[1;31mTypeError\u001b[0m: Can't instantiate abstract class shape without an implementation for abstract methods 'area1', 'perimeter1'"
     ]
    }
   ],
   "source": [
    "sh=shape()"
   ]
  },
  {
   "cell_type": "code",
   "execution_count": 72,
   "id": "4df52c1b",
   "metadata": {
    "id": "4df52c1b",
    "outputId": "c734290d-b612-4350-dc8c-1e1a83018913"
   },
   "outputs": [
    {
     "ename": "TypeError",
     "evalue": "Can't instantiate abstract class square without an implementation for abstract methods 'area1', 'perimeter1'",
     "output_type": "error",
     "traceback": [
      "\u001b[1;31m---------------------------------------------------------------------------\u001b[0m",
      "\u001b[1;31mTypeError\u001b[0m                                 Traceback (most recent call last)",
      "Cell \u001b[1;32mIn[72], line 1\u001b[0m\n\u001b[1;32m----> 1\u001b[0m s\u001b[38;5;241m=\u001b[39msquare(\u001b[38;5;241m5\u001b[39m)\n",
      "\u001b[1;31mTypeError\u001b[0m: Can't instantiate abstract class square without an implementation for abstract methods 'area1', 'perimeter1'"
     ]
    }
   ],
   "source": [
    "s=square(5)"
   ]
  },
  {
   "cell_type": "code",
   "execution_count": 64,
   "id": "09640cbf",
   "metadata": {
    "id": "09640cbf",
    "outputId": "9a0ec073-6906-4605-9af8-c521d06493f2",
    "scrolled": true
   },
   "outputs": [
    {
     "name": "stdout",
     "output_type": "stream",
     "text": [
      "None\n",
      "None\n"
     ]
    }
   ],
   "source": [
    "print(s.area())\n",
    "print(s.perimeter())"
   ]
  },
  {
   "cell_type": "code",
   "execution_count": 66,
   "id": "158ff8b3",
   "metadata": {
    "id": "158ff8b3"
   },
   "outputs": [],
   "source": [
    "# so we have to stop making the object of parent class becuase we are using the properites of parent class by making the object of child class"
   ]
  },
  {
   "cell_type": "code",
   "execution_count": 45,
   "id": "355fa02a",
   "metadata": {
    "id": "355fa02a"
   },
   "outputs": [],
   "source": [
    "# Agar hum kissi bhi class ko ABC meta class se inherit karenge tbh woh class apni child class ko yeh bolegi ki aapko kuch methods ko implement krna he krna hai"
   ]
  },
  {
   "cell_type": "code",
   "execution_count": null,
   "id": "712ced14",
   "metadata": {
    "id": "712ced14"
   },
   "outputs": [],
   "source": []
  },
  {
   "cell_type": "code",
   "execution_count": null,
   "id": "0064f68c-a0cb-491e-ab9d-f1d618926876",
   "metadata": {},
   "outputs": [],
   "source": []
  }
 ],
 "metadata": {
  "colab": {
   "provenance": []
  },
  "kernelspec": {
   "display_name": "Python 3 (ipykernel)",
   "language": "python",
   "name": "python3"
  },
  "language_info": {
   "codemirror_mode": {
    "name": "ipython",
    "version": 3
   },
   "file_extension": ".py",
   "mimetype": "text/x-python",
   "name": "python",
   "nbconvert_exporter": "python",
   "pygments_lexer": "ipython3",
   "version": "3.12.4"
  }
 },
 "nbformat": 4,
 "nbformat_minor": 5
}
