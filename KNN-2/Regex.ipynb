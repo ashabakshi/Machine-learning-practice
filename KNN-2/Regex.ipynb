{
 "cells": [
  {
   "cell_type": "code",
   "execution_count": 81,
   "id": "ffc9561c-a6ac-4ef8-a04f-f06295c7afe7",
   "metadata": {},
   "outputs": [],
   "source": [
    "# Regular Expression- it is used to find the pattern in the string"
   ]
  },
  {
   "cell_type": "code",
   "execution_count": null,
   "id": "89bd5c7f-1287-45a0-b199-54657ee30654",
   "metadata": {},
   "outputs": [],
   "source": [
    "# NLP"
   ]
  },
  {
   "cell_type": "code",
   "execution_count": 91,
   "id": "8e9d1b38-d870-4fd7-acdd-888ed792cfb3",
   "metadata": {},
   "outputs": [
    {
     "name": "stdout",
     "output_type": "stream",
     "text": [
      "hello\n",
      "hello\n"
     ]
    }
   ],
   "source": [
    "print('hello')\n",
    "print(r'hello')"
   ]
  },
  {
   "cell_type": "code",
   "execution_count": 89,
   "id": "096a5807-357c-4568-a5a1-a24cadc50646",
   "metadata": {},
   "outputs": [
    {
     "name": "stdout",
     "output_type": "stream",
     "text": [
      "my surname is verma\n",
      "my surname is verma\n"
     ]
    }
   ],
   "source": [
    "a='verma'\n",
    "print('my surname is',a)\n",
    "print(f'my surname is {a}')"
   ]
  },
  {
   "cell_type": "code",
   "execution_count": 83,
   "id": "8b4a1a33-ec42-47c8-95ca-6598d9f91129",
   "metadata": {},
   "outputs": [],
   "source": [
    "import re"
   ]
  },
  {
   "cell_type": "code",
   "execution_count": 127,
   "id": "f5454d85-9d36-418f-bf9d-b8c3e341f4d7",
   "metadata": {},
   "outputs": [
    {
     "name": "stdout",
     "output_type": "stream",
     "text": [
      "Deepanshu is 123 aND Verma is 4\n",
      "Hello is 79 and Hiii is 111\n"
     ]
    }
   ],
   "source": [
    "text='''Deepanshu is 123 aND Verma is 4\n",
    "Hello is 79 and Hiii is 111'''\n",
    "\n",
    "print(text)"
   ]
  },
  {
   "cell_type": "markdown",
   "id": "425980c1-fcd8-4a73-9885-b3a9a74c28d6",
   "metadata": {},
   "source": [
    "- \\d matches a single digit.\n",
    "- \\d+ matches one or more digits.\n",
    "- \\d{n} matches exactly n digits.\n",
    "- \\d{n,m} matches between n and m digits.\n",
    "- \\D display excluding  numbers"
   ]
  },
  {
   "cell_type": "code",
   "execution_count": 97,
   "id": "4149f999-c10b-417b-adf3-bf6551ce2e4d",
   "metadata": {},
   "outputs": [
    {
     "name": "stdout",
     "output_type": "stream",
     "text": [
      "['1', '2', '3', '4', '7', '9', '1', '1', '1']\n"
     ]
    },
    {
     "name": "stderr",
     "output_type": "stream",
     "text": [
      "<>:1: SyntaxWarning: invalid escape sequence '\\d'\n",
      "<>:1: SyntaxWarning: invalid escape sequence '\\d'\n",
      "C:\\Users\\cipl\\AppData\\Local\\Temp\\ipykernel_7008\\2297305171.py:1: SyntaxWarning: invalid escape sequence '\\d'\n",
      "  numbers=re.findall('\\d',text)# d{1,4)\n"
     ]
    }
   ],
   "source": [
    "numbers=re.findall('\\d',text)# d{1,4) \n",
    "print(numbers)"
   ]
  },
  {
   "cell_type": "code",
   "execution_count": 99,
   "id": "21e8db7b-55b1-4221-a39a-9634abae141d",
   "metadata": {},
   "outputs": [
    {
     "name": "stdout",
     "output_type": "stream",
     "text": [
      "['123', '4', '79', '111']\n"
     ]
    }
   ],
   "source": [
    "numbers=re.findall(r'\\d+',text)\n",
    "print(numbers)"
   ]
  },
  {
   "cell_type": "code",
   "execution_count": 101,
   "id": "54ce50f4-7ac6-473a-91e6-5511c3ada777",
   "metadata": {},
   "outputs": [
    {
     "name": "stdout",
     "output_type": "stream",
     "text": [
      "['12', '79', '11']\n"
     ]
    }
   ],
   "source": [
    "numbers=re.findall(r'\\d{2}',text)# d{1,4) indicates that 1 to 3 digit numbers\n",
    "print(numbers)"
   ]
  },
  {
   "cell_type": "code",
   "execution_count": 117,
   "id": "3164ac5e-e244-4a1e-a8d2-e657d5a16bdd",
   "metadata": {},
   "outputs": [
    {
     "name": "stdout",
     "output_type": "stream",
     "text": [
      "['123', '4', '79', '111']\n"
     ]
    }
   ],
   "source": [
    "numbers=re.findall(r'\\d{1,3}',text)# d{1,4) indicates that 1 to 3 digit numbers\n",
    "print(numbers)"
   ]
  },
  {
   "cell_type": "code",
   "execution_count": 119,
   "id": "79450635-ac7e-4e81-b9a9-4767e7c41bef",
   "metadata": {},
   "outputs": [
    {
     "name": "stdout",
     "output_type": "stream",
     "text": [
      "['D', 'e', 'e', 'p', 'a', 'n', 's', 'h', 'u', ' ', 'i', 's', ' ', ' ', 'a', 'n', 'd', ' ', 'V', 'e', 'r', 'm', 'a', ' ', 'i', 's', ' ', '\\n', 'H', 'e', 'l', 'l', 'o', ' ', 'i', 's', ' ', ' ', 'a', 'n', 'd', ' ', 'H', 'i', 'i', 'i', ' ', 'i', 's', ' ']\n"
     ]
    }
   ],
   "source": [
    "numbers=re.findall(r'\\D',text)# d{1,4) indicates that 1 to 3 digit numbers\n",
    "print(numbers)"
   ]
  },
  {
   "cell_type": "code",
   "execution_count": 121,
   "id": "2014d389-004f-4492-96f2-a62197f4f948",
   "metadata": {},
   "outputs": [
    {
     "name": "stdout",
     "output_type": "stream",
     "text": [
      "['D', 'V', 'H', 'H']\n"
     ]
    }
   ],
   "source": [
    "names=re.findall(r'[A-Z]',text)\n",
    "print(names)"
   ]
  },
  {
   "cell_type": "code",
   "execution_count": 31,
   "id": "eed9ff3b-c17b-4c4f-b3df-6cdc7595c707",
   "metadata": {},
   "outputs": [
    {
     "name": "stdout",
     "output_type": "stream",
     "text": [
      "['e', 'e', 'p', 'a', 'n', 's', 'h', 'u', 'i', 's', 'a', 'n', 'd', 'e', 'r', 'm', 'a', 'i', 's', 'e', 'l', 'l', 'o', 'i', 's', 'a', 'n', 'd', 'i', 'i', 'i', 'i', 's']\n"
     ]
    }
   ],
   "source": [
    "names=re.findall(r'[a-z]',text)\n",
    "print(names)"
   ]
  },
  {
   "cell_type": "code",
   "execution_count": 129,
   "id": "6d0d662e-1f5f-4f8d-974a-eb98aa150ce9",
   "metadata": {},
   "outputs": [
    {
     "name": "stdout",
     "output_type": "stream",
     "text": [
      "['Deepanshu', 'N', 'D', 'Verma', 'Hello', 'Hiii']\n"
     ]
    }
   ],
   "source": [
    "names=re.findall(r'[A-Z][a-z]*',text)\n",
    "print(names)"
   ]
  },
  {
   "cell_type": "code",
   "execution_count": 131,
   "id": "60033618-a690-44c0-8198-1d1d80bdcb8c",
   "metadata": {},
   "outputs": [
    {
     "name": "stdout",
     "output_type": "stream",
     "text": [
      "['e', 'e', 'p', 'a', 'n', 's', 'h', 'u', 'i', 's', 'aND', 'e', 'r', 'm', 'a', 'i', 's', 'e', 'l', 'l', 'o', 'i', 's', 'a', 'n', 'd', 'i', 'i', 'i', 'i', 's']\n"
     ]
    }
   ],
   "source": [
    "names=re.findall(r'[a-z][A-Z]*',text)\n",
    "print(names)"
   ]
  },
  {
   "cell_type": "code",
   "execution_count": 33,
   "id": "5e2ad7c0-a8d6-49aa-8ffd-9263943dd09b",
   "metadata": {},
   "outputs": [],
   "source": [
    "# search"
   ]
  },
  {
   "cell_type": "code",
   "execution_count": 133,
   "id": "d040404e-73da-4043-b366-98e2b176efdf",
   "metadata": {},
   "outputs": [],
   "source": [
    "sentence='we need to inform him with the latest information'\n"
   ]
  },
  {
   "cell_type": "code",
   "execution_count": 135,
   "id": "3b6b43c3-2d0c-4ecd-ae58-f09f9e6a7a48",
   "metadata": {},
   "outputs": [
    {
     "data": {
      "text/plain": [
       "<re.Match object; span=(11, 17), match='inform'>"
      ]
     },
     "execution_count": 135,
     "metadata": {},
     "output_type": "execute_result"
    }
   ],
   "source": [
    "re.search('inform',sentence)\n"
   ]
  },
  {
   "cell_type": "code",
   "execution_count": 50,
   "id": "cca7310d-c2d5-43cb-8416-977ca1ad6a75",
   "metadata": {},
   "outputs": [
    {
     "name": "stdout",
     "output_type": "stream",
     "text": [
      "There is an inform available\n"
     ]
    }
   ],
   "source": [
    "if re.search('inform',sentence):\n",
    "    print('There is an inform available')"
   ]
  },
  {
   "cell_type": "code",
   "execution_count": 173,
   "id": "684541f5-1a94-4b96-9f38-f3f1e2f8120d",
   "metadata": {},
   "outputs": [
    {
     "name": "stdout",
     "output_type": "stream",
     "text": [
      "['sat', 'hat', 'mat', 'rat']\n",
      "sat\n",
      "hat\n",
      "mat\n",
      "rat\n"
     ]
    }
   ],
   "source": [
    "sent1='sat, hat, mat, cat, rat, fixat'\n",
    "allstr=re.findall('[shmrf]at',sent1)\n",
    "print(allstr)\n",
    "for i in allstr:\n",
    "    print(i)"
   ]
  },
  {
   "cell_type": "code",
   "execution_count": 175,
   "id": "28536d83-e4e9-4bc1-b3f5-b94bef5504d9",
   "metadata": {},
   "outputs": [
    {
     "name": "stdout",
     "output_type": "stream",
     "text": [
      "['sat', 'cat', 'rat', 'xat']\n"
     ]
    }
   ],
   "source": [
    "# for excluding the particular character\n",
    "somestr=re.findall('[^hm]at',sent1)\n",
    "print(somestr)\n"
   ]
  },
  {
   "cell_type": "code",
   "execution_count": 177,
   "id": "0ad0dce3-81a7-4f98-9752-c18bafe8a4f5",
   "metadata": {},
   "outputs": [
    {
     "name": "stdout",
     "output_type": "stream",
     "text": [
      "sat, hat, mat, cat, hello riat\n"
     ]
    }
   ],
   "source": [
    "# for replacing \n",
    "sent1='sat, hat, mat, cat, rat riat'\n",
    "\n",
    "regex=re.compile('[r]at')\n",
    "sent1=regex.sub('hello',sent1)# substitute\n",
    "print(sent1)"
   ]
  },
  {
   "cell_type": "code",
   "execution_count": 66,
   "id": "1d391937-e190-4057-a3aa-091f587e93d0",
   "metadata": {},
   "outputs": [
    {
     "name": "stdout",
     "output_type": "stream",
     "text": [
      "My name\n",
      "is \n",
      "Deepanshu\n",
      "verma\n",
      "My name is  Deepanshu verma\n"
     ]
    }
   ],
   "source": [
    "sent2='''My name\n",
    "is \n",
    "Deepanshu\n",
    "verma'''\n",
    "\n",
    "print(sent2)\n",
    "regex=re.compile('\\n')\n",
    "sent2=regex.sub(' ',sent2)\n",
    "print(sent2)"
   ]
  },
  {
   "cell_type": "code",
   "execution_count": 183,
   "id": "feb263f9-0c52-496e-9dac-7fcc643db2b8",
   "metadata": {},
   "outputs": [],
   "source": [
    "import warnings\n",
    "warnings.filterwarnings('ignore')"
   ]
  },
  {
   "cell_type": "code",
   "execution_count": 71,
   "id": "ee1354ae-90d1-4250-88b4-42f92dadae5f",
   "metadata": {},
   "outputs": [],
   "source": [
    "# \\w[a-zA-Z0-9] # anything from this\n",
    "# \\w[^a-zA-Z0-9] # excluding from this"
   ]
  },
  {
   "cell_type": "code",
   "execution_count": 217,
   "id": "b71192e7-198c-4a83-8c64-edc4b51d6811",
   "metadata": {},
   "outputs": [
    {
     "name": "stdout",
     "output_type": "stream",
     "text": [
      "0 m\n",
      "1 y\n",
      "2  \n",
      "3 n\n",
      "4 a\n",
      "5 m\n",
      "6 e\n",
      "7  \n",
      "8 i\n",
      "9 s\n",
      "10  \n",
      "11 d\n",
      "12 e\n",
      "13 e\n",
      "14 p\n",
      "15 a\n",
      "16 n\n",
      "17 s\n",
      "18 h\n",
      "19 u\n",
      "20  \n",
      "21 m\n",
      "22 y\n",
      "23  \n",
      "24 p\n",
      "25 h\n",
      "26 o\n",
      "27 n\n",
      "28 e\n",
      "29  \n",
      "30 n\n",
      "31 u\n",
      "32 m\n",
      "33 b\n",
      "34 e\n",
      "35 r\n",
      "36  \n",
      "37 i\n",
      "38 s\n",
      "39  \n",
      "40 9\n",
      "41 4\n",
      "42 5\n",
      "43 -\n",
      "44 3\n",
      "45 5\n",
      "46 0\n",
      "47 -\n",
      "48 7\n",
      "49 3\n",
      "50 2\n",
      "51 6\n",
      "52  \n",
      "53 a\n",
      "54 n\n",
      "55 d\n",
      "56  \n",
      "57 m\n",
      "58 y\n",
      "59  \n",
      "60 r\n",
      "61 o\n",
      "62 l\n",
      "63 l\n",
      "64  \n",
      "65 n\n",
      "66 o\n",
      "67  \n",
      "68 i\n",
      "69 s\n",
      "70  \n",
      "71 1\n",
      "72 2\n",
      "73  \n",
      "74 a\n",
      "75 n\n",
      "76 d\n",
      "77 m\n",
      "78 y\n",
      "79  \n",
      "80 f\n",
      "81 r\n",
      "82 i\n",
      "83 e\n",
      "84 n\n",
      "85 d\n",
      "86  \n",
      "87 m\n",
      "88 o\n",
      "89 b\n",
      "90 i\n",
      "91 l\n",
      "92 e\n",
      "93  \n",
      "94 i\n",
      "95 s\n",
      "96  \n",
      "97 9\n",
      "98 9\n",
      "99 9\n",
      "100 -\n",
      "101 5\n",
      "102 6\n",
      "103 7\n",
      "104 -\n",
      "105 8\n",
      "106 9\n",
      "107 0\n",
      "108 6\n",
      "109  \n",
      "110 a\n",
      "111 n\n",
      "112 d\n",
      "113  \n",
      "114 i\n",
      "115 t\n",
      "116 s\n",
      "117  \n",
      "118 r\n",
      "119 o\n",
      "120 o\n",
      "121 l\n",
      "122  \n",
      "123 n\n",
      "124 o\n",
      "125  \n",
      "126 i\n",
      "127 s\n",
      "128  \n",
      "129 3\n",
      "130 4\n"
     ]
    }
   ],
   "source": [
    "n='my name is deepanshu my phone number is 945-350-7326 and my roll no is 12 andmy friend mobile is 999-567-8906 and its rool no is 34'\n",
    "for i in range(len(n)):\n",
    "    print(i,n[i])"
   ]
  },
  {
   "cell_type": "code",
   "execution_count": 215,
   "id": "06971310-4fce-4a65-b5bb-36bfe252ace6",
   "metadata": {},
   "outputs": [
    {
     "name": "stdout",
     "output_type": "stream",
     "text": [
      "<re.Match object; span=(38, 52), match='s 945-350-7326'>\n",
      "it is a phone number\n"
     ]
    }
   ],
   "source": [
    "# ph=\"945-350-7326\"\n",
    "print(re.search(\"[^A-Z][^a-z]\\w{3}-\\w{3}-\\w{4}\",n))\n",
    "if re.search(\"[^A-Z][^a-z]\\w{3}-\\w{3}-\\w{4}\",n):\n",
    "    print('it is a phone number')"
   ]
  },
  {
   "cell_type": "code",
   "execution_count": 203,
   "id": "f9ce1ba5-72ad-424c-a478-f67a9cbcdf51",
   "metadata": {},
   "outputs": [],
   "source": [
    "if re.search(\"\\w{3}\\w{3}-\\w{4}\",n):\n",
    "    print('it is a phone number')"
   ]
  },
  {
   "cell_type": "code",
   "execution_count": 197,
   "id": "257f5a80-cc02-4370-b765-f9b04c2284b8",
   "metadata": {},
   "outputs": [],
   "source": [
    "ph=\"945-ab0-7326\"\n",
    "if re.search(\"\\w{3}\\w{3}-\\w{4}\",ph):\n",
    "    print('it is a phone number')"
   ]
  },
  {
   "cell_type": "code",
   "execution_count": 77,
   "id": "80daa6cf-b3b8-4f62-9ea1-2c3f52d2122c",
   "metadata": {},
   "outputs": [
    {
     "name": "stdout",
     "output_type": "stream",
     "text": [
      "it is a phone number\n"
     ]
    },
    {
     "name": "stderr",
     "output_type": "stream",
     "text": [
      "<>:2: SyntaxWarning: invalid escape sequence '\\d'\n",
      "<>:2: SyntaxWarning: invalid escape sequence '\\d'\n",
      "C:\\Users\\cipl\\AppData\\Local\\Temp\\ipykernel_7008\\3317484346.py:2: SyntaxWarning: invalid escape sequence '\\d'\n",
      "  if re.search(\"\\d{3}-\\d{3}-\\d{4}\",ph):\n"
     ]
    }
   ],
   "source": [
    "ph=\"945-850-7326\"\n",
    "if re.search(\"\\d{3}-\\d{3}-\\d{4}\",ph):\n",
    "    print('it is a phone number')"
   ]
  },
  {
   "cell_type": "code",
   "execution_count": null,
   "id": "25379389-c3ad-4e17-a113-097d293ec63e",
   "metadata": {},
   "outputs": [],
   "source": [
    "basics\n",
    "operators\n",
    "if else\n",
    "for loop\n",
    "str,list\n",
    "lambda (optioanl)"
   ]
  }
 ],
 "metadata": {
  "kernelspec": {
   "display_name": "Python 3 (ipykernel)",
   "language": "python",
   "name": "python3"
  },
  "language_info": {
   "codemirror_mode": {
    "name": "ipython",
    "version": 3
   },
   "file_extension": ".py",
   "mimetype": "text/x-python",
   "name": "python",
   "nbconvert_exporter": "python",
   "pygments_lexer": "ipython3",
   "version": "3.12.4"
  }
 },
 "nbformat": 4,
 "nbformat_minor": 5
}
