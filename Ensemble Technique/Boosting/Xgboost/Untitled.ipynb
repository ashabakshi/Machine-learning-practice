{
 "cells": [
  {
   "cell_type": "code",
   "execution_count": 2,
   "id": "a19370bf-994a-4ea8-84bf-1a4b4f49d13b",
   "metadata": {},
   "outputs": [],
   "source": [
    "import numpy as np\n",
    "import pandas as pd"
   ]
  },
  {
   "cell_type": "code",
   "execution_count": 8,
   "id": "3c623f2f-44cc-4cd9-807b-2216e0925868",
   "metadata": {},
   "outputs": [],
   "source": [
    "h=[12.0,np.nan,13,15,16,np.nan,np.nan]\n",
    "w=[35.0,36.0,32,np.nan,39,np.nan,np.nan]\n",
    "c=['India','US','UK','France','US',np.nan,np.nan]\n",
    "p=['Bengaluru','New York','London','Paris','California','Delhi',np.nan]\n",
    "n=[1,2,np.nan,4,5,np.nan,6]\n",
    "s=[np.nan,np.nan,np.nan,np.nan,12.0,np.nan,np.nan]"
   ]
  },
  {
   "cell_type": "code",
   "execution_count": 12,
   "id": "9a712780-643c-4daf-b57a-1c32490eb6dc",
   "metadata": {},
   "outputs": [],
   "source": [
    "df=pd.DataFrame({'Height':h,'Weight':w,'Country':c,'Place':p,'Number_of_days':n,'Some_column':s})"
   ]
  },
  {
   "cell_type": "code",
   "execution_count": 14,
   "id": "168f41b9-d920-4118-ac03-9b44cd3bfc2a",
   "metadata": {},
   "outputs": [
    {
     "data": {
      "text/html": [
       "<div>\n",
       "<style scoped>\n",
       "    .dataframe tbody tr th:only-of-type {\n",
       "        vertical-align: middle;\n",
       "    }\n",
       "\n",
       "    .dataframe tbody tr th {\n",
       "        vertical-align: top;\n",
       "    }\n",
       "\n",
       "    .dataframe thead th {\n",
       "        text-align: right;\n",
       "    }\n",
       "</style>\n",
       "<table border=\"1\" class=\"dataframe\">\n",
       "  <thead>\n",
       "    <tr style=\"text-align: right;\">\n",
       "      <th></th>\n",
       "      <th>Height</th>\n",
       "      <th>Weight</th>\n",
       "      <th>Country</th>\n",
       "      <th>Place</th>\n",
       "      <th>Number_of_days</th>\n",
       "      <th>Some_column</th>\n",
       "    </tr>\n",
       "  </thead>\n",
       "  <tbody>\n",
       "    <tr>\n",
       "      <th>0</th>\n",
       "      <td>12.0</td>\n",
       "      <td>35.0</td>\n",
       "      <td>India</td>\n",
       "      <td>Bengaluru</td>\n",
       "      <td>1.0</td>\n",
       "      <td>NaN</td>\n",
       "    </tr>\n",
       "    <tr>\n",
       "      <th>1</th>\n",
       "      <td>NaN</td>\n",
       "      <td>36.0</td>\n",
       "      <td>US</td>\n",
       "      <td>New York</td>\n",
       "      <td>2.0</td>\n",
       "      <td>NaN</td>\n",
       "    </tr>\n",
       "    <tr>\n",
       "      <th>2</th>\n",
       "      <td>13.0</td>\n",
       "      <td>32.0</td>\n",
       "      <td>UK</td>\n",
       "      <td>London</td>\n",
       "      <td>NaN</td>\n",
       "      <td>NaN</td>\n",
       "    </tr>\n",
       "    <tr>\n",
       "      <th>3</th>\n",
       "      <td>15.0</td>\n",
       "      <td>NaN</td>\n",
       "      <td>France</td>\n",
       "      <td>Paris</td>\n",
       "      <td>4.0</td>\n",
       "      <td>NaN</td>\n",
       "    </tr>\n",
       "    <tr>\n",
       "      <th>4</th>\n",
       "      <td>16.0</td>\n",
       "      <td>39.0</td>\n",
       "      <td>US</td>\n",
       "      <td>California</td>\n",
       "      <td>5.0</td>\n",
       "      <td>12.0</td>\n",
       "    </tr>\n",
       "    <tr>\n",
       "      <th>5</th>\n",
       "      <td>NaN</td>\n",
       "      <td>NaN</td>\n",
       "      <td>NaN</td>\n",
       "      <td>Delhi</td>\n",
       "      <td>NaN</td>\n",
       "      <td>NaN</td>\n",
       "    </tr>\n",
       "    <tr>\n",
       "      <th>6</th>\n",
       "      <td>NaN</td>\n",
       "      <td>NaN</td>\n",
       "      <td>NaN</td>\n",
       "      <td>NaN</td>\n",
       "      <td>6.0</td>\n",
       "      <td>NaN</td>\n",
       "    </tr>\n",
       "  </tbody>\n",
       "</table>\n",
       "</div>"
      ],
      "text/plain": [
       "   Height  Weight Country       Place  Number_of_days  Some_column\n",
       "0    12.0    35.0   India   Bengaluru             1.0          NaN\n",
       "1     NaN    36.0      US    New York             2.0          NaN\n",
       "2    13.0    32.0      UK      London             NaN          NaN\n",
       "3    15.0     NaN  France       Paris             4.0          NaN\n",
       "4    16.0    39.0      US  California             5.0         12.0\n",
       "5     NaN     NaN     NaN       Delhi             NaN          NaN\n",
       "6     NaN     NaN     NaN         NaN             6.0          NaN"
      ]
     },
     "execution_count": 14,
     "metadata": {},
     "output_type": "execute_result"
    }
   ],
   "source": [
    "df"
   ]
  },
  {
   "cell_type": "code",
   "execution_count": null,
   "id": "bf457d8b-f97d-42dd-8d5a-c5ac409498ca",
   "metadata": {},
   "outputs": [],
   "source": [
    "s"
   ]
  }
 ],
 "metadata": {
  "kernelspec": {
   "display_name": "Python 3 (ipykernel)",
   "language": "python",
   "name": "python3"
  },
  "language_info": {
   "codemirror_mode": {
    "name": "ipython",
    "version": 3
   },
   "file_extension": ".py",
   "mimetype": "text/x-python",
   "name": "python",
   "nbconvert_exporter": "python",
   "pygments_lexer": "ipython3",
   "version": "3.12.4"
  }
 },
 "nbformat": 4,
 "nbformat_minor": 5
}
