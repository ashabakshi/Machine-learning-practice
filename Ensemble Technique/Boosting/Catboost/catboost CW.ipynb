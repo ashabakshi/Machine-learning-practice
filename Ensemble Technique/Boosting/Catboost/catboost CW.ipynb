{
 "cells": [
  {
   "cell_type": "markdown",
   "metadata": {
    "id": "F9OjJtTuMZOb"
   },
   "source": [
    "## Libraries installation"
   ]
  },
  {
   "cell_type": "code",
   "execution_count": 1,
   "metadata": {
    "ExecuteTime": {
     "end_time": "2024-04-20T03:40:13.056654Z",
     "start_time": "2024-04-20T03:39:33.676532Z"
    },
    "id": "kJKVb3ZlMZOd",
    "outputId": "052b129d-f77c-4536-9027-dcca6bf3abfc"
   },
   "outputs": [],
   "source": [
    "#!pip install catboost\n",
    "#!pip install ipywidgets\n",
    "#!pip install shap\n",
    "#!pip install sklearn\n",
    "#!jupyter nbextension enable --py widgetsnbextension"
   ]
  },
  {
   "cell_type": "code",
   "execution_count": 3,
   "metadata": {},
   "outputs": [],
   "source": [
    "#pip install notebook==5.7.10\n"
   ]
  },
  {
   "cell_type": "code",
   "execution_count": 5,
   "metadata": {
    "scrolled": true
   },
   "outputs": [],
   "source": [
    "#!jupyter nbextension enable --py widgetsnbextension"
   ]
  },
  {
   "cell_type": "code",
   "execution_count": 108,
   "metadata": {
    "ExecuteTime": {
     "end_time": "2024-04-20T03:40:26.455701Z",
     "start_time": "2024-04-20T03:40:20.394308Z"
    },
    "id": "rpU6BBkgMZOj",
    "outputId": "0e64dd64-3ff8-437f-deb9-f6dd64914e5d"
   },
   "outputs": [
    {
     "name": "stdout",
     "output_type": "stream",
     "text": [
      "1.2.7\n"
     ]
    }
   ],
   "source": [
    "import os\n",
    "import pandas as pd\n",
    "import numpy as np\n",
    "\n",
    "import catboost\n",
    "print(catboost.__version__)"
   ]
  },
  {
   "cell_type": "markdown",
   "metadata": {
    "id": "jyvCTqsgMZOo"
   },
   "source": [
    "## Reading the data"
   ]
  },
  {
   "cell_type": "code",
   "execution_count": 111,
   "metadata": {
    "ExecuteTime": {
     "end_time": "2024-04-20T03:41:22.959850Z",
     "start_time": "2024-04-20T03:41:22.927503Z"
    },
    "id": "_UpzVSc5MZOs",
    "outputId": "59ccce1d-f165-41fa-9446-83180082b02a"
   },
   "outputs": [
    {
     "data": {
      "text/html": [
       "<div>\n",
       "<style scoped>\n",
       "    .dataframe tbody tr th:only-of-type {\n",
       "        vertical-align: middle;\n",
       "    }\n",
       "\n",
       "    .dataframe tbody tr th {\n",
       "        vertical-align: top;\n",
       "    }\n",
       "\n",
       "    .dataframe thead th {\n",
       "        text-align: right;\n",
       "    }\n",
       "</style>\n",
       "<table border=\"1\" class=\"dataframe\">\n",
       "  <thead>\n",
       "    <tr style=\"text-align: right;\">\n",
       "      <th></th>\n",
       "      <th>age</th>\n",
       "      <th>sex</th>\n",
       "      <th>bmi</th>\n",
       "      <th>children</th>\n",
       "      <th>smoker</th>\n",
       "      <th>region</th>\n",
       "      <th>charges</th>\n",
       "    </tr>\n",
       "  </thead>\n",
       "  <tbody>\n",
       "    <tr>\n",
       "      <th>0</th>\n",
       "      <td>19</td>\n",
       "      <td>female</td>\n",
       "      <td>27.900</td>\n",
       "      <td>0</td>\n",
       "      <td>yes</td>\n",
       "      <td>southwest</td>\n",
       "      <td>16884.92400</td>\n",
       "    </tr>\n",
       "    <tr>\n",
       "      <th>1</th>\n",
       "      <td>18</td>\n",
       "      <td>male</td>\n",
       "      <td>33.770</td>\n",
       "      <td>1</td>\n",
       "      <td>no</td>\n",
       "      <td>southeast</td>\n",
       "      <td>1725.55230</td>\n",
       "    </tr>\n",
       "    <tr>\n",
       "      <th>2</th>\n",
       "      <td>28</td>\n",
       "      <td>male</td>\n",
       "      <td>33.000</td>\n",
       "      <td>3</td>\n",
       "      <td>no</td>\n",
       "      <td>southeast</td>\n",
       "      <td>4449.46200</td>\n",
       "    </tr>\n",
       "    <tr>\n",
       "      <th>3</th>\n",
       "      <td>33</td>\n",
       "      <td>male</td>\n",
       "      <td>22.705</td>\n",
       "      <td>0</td>\n",
       "      <td>no</td>\n",
       "      <td>northwest</td>\n",
       "      <td>21984.47061</td>\n",
       "    </tr>\n",
       "    <tr>\n",
       "      <th>4</th>\n",
       "      <td>32</td>\n",
       "      <td>male</td>\n",
       "      <td>28.880</td>\n",
       "      <td>0</td>\n",
       "      <td>no</td>\n",
       "      <td>northwest</td>\n",
       "      <td>3866.85520</td>\n",
       "    </tr>\n",
       "  </tbody>\n",
       "</table>\n",
       "</div>"
      ],
      "text/plain": [
       "   age     sex     bmi  children smoker     region      charges\n",
       "0   19  female  27.900         0    yes  southwest  16884.92400\n",
       "1   18    male  33.770         1     no  southeast   1725.55230\n",
       "2   28    male  33.000         3     no  southeast   4449.46200\n",
       "3   33    male  22.705         0     no  northwest  21984.47061\n",
       "4   32    male  28.880         0     no  northwest   3866.85520"
      ]
     },
     "execution_count": 111,
     "metadata": {},
     "output_type": "execute_result"
    }
   ],
   "source": [
    "df = pd.read_csv('insurance.csv')\n",
    "df.head()"
   ]
  },
  {
   "cell_type": "code",
   "execution_count": 113,
   "metadata": {
    "id": "I71E10iXCQv0",
    "outputId": "ee708b13-3bb5-472e-f6f6-5973fdcea476"
   },
   "outputs": [
    {
     "data": {
      "text/plain": [
       "(1338, 7)"
      ]
     },
     "execution_count": 113,
     "metadata": {},
     "output_type": "execute_result"
    }
   ],
   "source": [
    "df.shape"
   ]
  },
  {
   "cell_type": "code",
   "execution_count": 115,
   "metadata": {
    "id": "ca0Xtl79CQv1",
    "outputId": "67264f4f-78b0-464b-afc3-b29ad89c945b"
   },
   "outputs": [
    {
     "name": "stdout",
     "output_type": "stream",
     "text": [
      "<class 'pandas.core.frame.DataFrame'>\n",
      "RangeIndex: 1338 entries, 0 to 1337\n",
      "Data columns (total 7 columns):\n",
      " #   Column    Non-Null Count  Dtype  \n",
      "---  ------    --------------  -----  \n",
      " 0   age       1338 non-null   int64  \n",
      " 1   sex       1338 non-null   object \n",
      " 2   bmi       1338 non-null   float64\n",
      " 3   children  1338 non-null   int64  \n",
      " 4   smoker    1338 non-null   object \n",
      " 5   region    1338 non-null   object \n",
      " 6   charges   1338 non-null   float64\n",
      "dtypes: float64(2), int64(2), object(3)\n",
      "memory usage: 73.3+ KB\n"
     ]
    }
   ],
   "source": [
    "df.info()"
   ]
  },
  {
   "cell_type": "markdown",
   "metadata": {
    "id": "a_RJsFxmMZOv"
   },
   "source": [
    "## Exploring the data"
   ]
  },
  {
   "cell_type": "code",
   "execution_count": 118,
   "metadata": {
    "ExecuteTime": {
     "end_time": "2024-04-20T03:44:36.315387Z",
     "start_time": "2024-04-20T03:44:36.300266Z"
    },
    "id": "IQ-1FtVnMZOy"
   },
   "outputs": [],
   "source": [
    "y = df['charges']\n",
    "X = df.drop('charges', axis=1)"
   ]
  },
  {
   "cell_type": "code",
   "execution_count": 120,
   "metadata": {
    "id": "Jv36wjyBCQv4",
    "outputId": "0509010c-1698-41f2-88ea-7e6165966173"
   },
   "outputs": [
    {
     "data": {
      "text/html": [
       "<div>\n",
       "<style scoped>\n",
       "    .dataframe tbody tr th:only-of-type {\n",
       "        vertical-align: middle;\n",
       "    }\n",
       "\n",
       "    .dataframe tbody tr th {\n",
       "        vertical-align: top;\n",
       "    }\n",
       "\n",
       "    .dataframe thead th {\n",
       "        text-align: right;\n",
       "    }\n",
       "</style>\n",
       "<table border=\"1\" class=\"dataframe\">\n",
       "  <thead>\n",
       "    <tr style=\"text-align: right;\">\n",
       "      <th></th>\n",
       "      <th>age</th>\n",
       "      <th>sex</th>\n",
       "      <th>bmi</th>\n",
       "      <th>children</th>\n",
       "      <th>smoker</th>\n",
       "      <th>region</th>\n",
       "    </tr>\n",
       "  </thead>\n",
       "  <tbody>\n",
       "    <tr>\n",
       "      <th>0</th>\n",
       "      <td>19</td>\n",
       "      <td>female</td>\n",
       "      <td>27.900</td>\n",
       "      <td>0</td>\n",
       "      <td>yes</td>\n",
       "      <td>southwest</td>\n",
       "    </tr>\n",
       "    <tr>\n",
       "      <th>1</th>\n",
       "      <td>18</td>\n",
       "      <td>male</td>\n",
       "      <td>33.770</td>\n",
       "      <td>1</td>\n",
       "      <td>no</td>\n",
       "      <td>southeast</td>\n",
       "    </tr>\n",
       "    <tr>\n",
       "      <th>2</th>\n",
       "      <td>28</td>\n",
       "      <td>male</td>\n",
       "      <td>33.000</td>\n",
       "      <td>3</td>\n",
       "      <td>no</td>\n",
       "      <td>southeast</td>\n",
       "    </tr>\n",
       "    <tr>\n",
       "      <th>3</th>\n",
       "      <td>33</td>\n",
       "      <td>male</td>\n",
       "      <td>22.705</td>\n",
       "      <td>0</td>\n",
       "      <td>no</td>\n",
       "      <td>northwest</td>\n",
       "    </tr>\n",
       "    <tr>\n",
       "      <th>4</th>\n",
       "      <td>32</td>\n",
       "      <td>male</td>\n",
       "      <td>28.880</td>\n",
       "      <td>0</td>\n",
       "      <td>no</td>\n",
       "      <td>northwest</td>\n",
       "    </tr>\n",
       "  </tbody>\n",
       "</table>\n",
       "</div>"
      ],
      "text/plain": [
       "   age     sex     bmi  children smoker     region\n",
       "0   19  female  27.900         0    yes  southwest\n",
       "1   18    male  33.770         1     no  southeast\n",
       "2   28    male  33.000         3     no  southeast\n",
       "3   33    male  22.705         0     no  northwest\n",
       "4   32    male  28.880         0     no  northwest"
      ]
     },
     "execution_count": 120,
     "metadata": {},
     "output_type": "execute_result"
    }
   ],
   "source": [
    "X.head()"
   ]
  },
  {
   "cell_type": "markdown",
   "metadata": {
    "id": "7QdMxz9KMZO0"
   },
   "source": [
    "Categorical features declaration"
   ]
  },
  {
   "cell_type": "code",
   "execution_count": 123,
   "metadata": {
    "id": "eU0YskBrMZO1",
    "outputId": "9aecce3a-be1f-43a7-dab1-faad9f321e0f"
   },
   "outputs": [
    {
     "name": "stdout",
     "output_type": "stream",
     "text": [
      "[1, 3, 4, 5]\n"
     ]
    }
   ],
   "source": [
    "cat_features = [1,3,4,5]\n",
    "print(cat_features)"
   ]
  },
  {
   "cell_type": "markdown",
   "metadata": {
    "id": "IVCKy13NMZO9"
   },
   "source": [
    "# Training the first model"
   ]
  },
  {
   "cell_type": "code",
   "execution_count": 165,
   "metadata": {
    "id": "n2R013L6MZO-",
    "outputId": "d95d3b20-8914-485e-a506-d88d491e6ae6"
   },
   "outputs": [
    {
     "name": "stdout",
     "output_type": "stream",
     "text": [
      "Learning rate set to 0.042871\n",
      "0:\tlearn: 11709.2816041\ttotal: 18.9ms\tremaining: 18.9s\n",
      "100:\tlearn: 4295.6700280\ttotal: 1.57s\tremaining: 14s\n",
      "200:\tlearn: 4113.1903316\ttotal: 3.14s\tremaining: 12.5s\n",
      "300:\tlearn: 3959.1778653\ttotal: 5.05s\tremaining: 11.7s\n",
      "400:\tlearn: 3831.9363912\ttotal: 6.69s\tremaining: 9.99s\n",
      "500:\tlearn: 3724.8842689\ttotal: 8.35s\tremaining: 8.32s\n",
      "600:\tlearn: 3628.5299335\ttotal: 10.3s\tremaining: 6.84s\n",
      "700:\tlearn: 3536.5601629\ttotal: 12.3s\tremaining: 5.26s\n",
      "800:\tlearn: 3445.5483997\ttotal: 14.3s\tremaining: 3.55s\n",
      "900:\tlearn: 3354.0648055\ttotal: 16s\tremaining: 1.76s\n",
      "999:\tlearn: 3260.4124513\ttotal: 17.6s\tremaining: 0us\n"
     ]
    },
    {
     "data": {
      "text/plain": [
       "<catboost.core.CatBoostRegressor at 0x24caacc7920>"
      ]
     },
     "execution_count": 165,
     "metadata": {},
     "output_type": "execute_result"
    }
   ],
   "source": [
    "from catboost import CatBoostRegressor\n",
    "\n",
    "model = CatBoostRegressor(iterations=1000)\n",
    "\n",
    "model.fit(X, y, cat_features=cat_features, verbose=100)"
   ]
  },
  {
   "cell_type": "code",
   "execution_count": 167,
   "metadata": {
    "id": "03_jH9AeMZPC",
    "outputId": "de3f8235-a870-4bcf-966f-267fe1a97b4b"
   },
   "outputs": [
    {
     "data": {
      "text/plain": [
       "array([17889.07616493,  4470.39528501,  5408.04012112, ...,\n",
       "        2141.43028434,  2629.03072533, 28891.10084048])"
      ]
     },
     "execution_count": 167,
     "metadata": {},
     "output_type": "execute_result"
    }
   ],
   "source": [
    "model.predict(X)"
   ]
  },
  {
   "cell_type": "markdown",
   "metadata": {
    "id": "8jy7iSlhMZPI"
   },
   "source": [
    "# Working with dataset"
   ]
  },
  {
   "cell_type": "markdown",
   "metadata": {
    "id": "yg1LWsoYMZPJ"
   },
   "source": [
    "There are several ways of passing dataset to training - using X,y (the initial matrix) or using Pool class.\n",
    "Pool class is the class for storing the dataset. In the next few blocks we'll explore the ways to create a Pool object.\n",
    "\n",
    "You can use Pool class if the dataset has more than just X and y (for example, it has sample weights or groups) or if the dataset is large and it takes long time to read it into python."
   ]
  },
  {
   "cell_type": "code",
   "execution_count": 169,
   "metadata": {
    "id": "8de_vsnWMZPJ"
   },
   "outputs": [],
   "source": [
    "from catboost import Pool\n",
    "pool = Pool(data=X, label=y, cat_features=cat_features)"
   ]
  },
  {
   "cell_type": "markdown",
   "metadata": {
    "id": "Yz77pQTwMZPM"
   },
   "source": [
    "## Split your data into train and validation"
   ]
  },
  {
   "cell_type": "code",
   "execution_count": 171,
   "metadata": {
    "id": "pkQoeVDtMZPM"
   },
   "outputs": [],
   "source": [
    "from sklearn.model_selection import train_test_split\n",
    "\n",
    "X_train, X_test, y_train, y_test = train_test_split(X, y, test_size=0.2, random_state=0)\n",
    "\n",
    "train_pool = Pool(\n",
    "    data=X_train,\n",
    "    label=y_train,\n",
    "    cat_features=cat_features\n",
    ")\n",
    "\n",
    "validation_pool = Pool(\n",
    "    data=X_test,\n",
    "    label=y_test,\n",
    "    cat_features=cat_features\n",
    ")"
   ]
  },
  {
   "cell_type": "markdown",
   "metadata": {
    "id": "9CLRhxKWMZPS"
   },
   "source": [
    "## Stdout of the training"
   ]
  },
  {
   "cell_type": "code",
   "execution_count": 177,
   "metadata": {
    "id": "XE1jC-XNMZPS",
    "outputId": "d8f08c15-cb7f-4990-8f17-98b583c68a45"
   },
   "outputs": [
    {
     "name": "stdout",
     "output_type": "stream",
     "text": [
      "Learning rate set to 0.5\n",
      "0:\tlearn: 7608.2906506\ttest: 7667.5765651\tbest: 7667.5765651 (0)\ttotal: 9.46ms\tremaining: 132ms\n",
      "5:\tlearn: 4604.5635186\ttest: 4106.7789446\tbest: 4106.7789446 (5)\ttotal: 109ms\tremaining: 164ms\n",
      "10:\tlearn: 4429.2010329\ttest: 4065.7452484\tbest: 4039.2627286 (8)\ttotal: 167ms\tremaining: 60.7ms\n",
      "14:\tlearn: 4259.1387065\ttest: 4064.9212176\tbest: 4039.2627286 (8)\ttotal: 224ms\tremaining: 0us\n",
      "\n",
      "bestTest = 4039.262729\n",
      "bestIteration = 8\n",
      "\n",
      "Shrink model to first 9 iterations.\n"
     ]
    }
   ],
   "source": [
    "model = CatBoostRegressor(\n",
    "    iterations=15,\n",
    "    verbose=5,\n",
    ")\n",
    "model.fit(train_pool, eval_set=validation_pool);"
   ]
  },
  {
   "cell_type": "markdown",
   "metadata": {
    "id": "1Ruo2JedMZP9"
   },
   "source": [
    "## Cross-validation"
   ]
  },
  {
   "cell_type": "code",
   "execution_count": 146,
   "metadata": {
    "id": "9TFixAUUMZP9",
    "outputId": "ace7b7d1-8448-4c55-9db8-4904c91d21cd"
   },
   "outputs": [
    {
     "data": {
      "application/vnd.jupyter.widget-view+json": {
       "model_id": "153a0bbb70bf43cea873b9aab3971165",
       "version_major": 2,
       "version_minor": 0
      },
      "text/plain": [
       "MetricVisualizer(layout=Layout(align_self='stretch', height='500px'))"
      ]
     },
     "metadata": {},
     "output_type": "display_data"
    },
    {
     "name": "stdout",
     "output_type": "stream",
     "text": [
      "Training on fold [0/5]\n",
      "0:\tlearn: 11020.4170379\ttest: 10229.5747867\tbest: 10229.5747867 (0)\ttotal: 18.2ms\tremaining: 72.8ms\n",
      "1:\tlearn: 7564.1037916\ttest: 7145.8261298\tbest: 7145.8261298 (1)\ttotal: 39.5ms\tremaining: 59.2ms\n",
      "2:\tlearn: 5706.4232752\ttest: 5673.1239325\tbest: 5673.1239325 (2)\ttotal: 50ms\tremaining: 33.3ms\n",
      "3:\tlearn: 4959.6268650\ttest: 5203.0959648\tbest: 5203.0959648 (3)\ttotal: 57.2ms\tremaining: 14.3ms\n",
      "4:\tlearn: 4702.2309638\ttest: 5082.9447107\tbest: 5082.9447107 (4)\ttotal: 68.5ms\tremaining: 0us\n",
      "\n",
      "bestTest = 5082.944711\n",
      "bestIteration = 4\n",
      "\n",
      "Training on fold [1/5]\n",
      "0:\tlearn: 10816.7648860\ttest: 11472.5918550\tbest: 11472.5918550 (0)\ttotal: 9ms\tremaining: 36ms\n",
      "1:\tlearn: 7553.0616211\ttest: 8002.3406266\tbest: 8002.3406266 (1)\ttotal: 21.8ms\tremaining: 32.7ms\n",
      "2:\tlearn: 5718.3298783\ttest: 5962.5792864\tbest: 5962.5792864 (2)\ttotal: 30.4ms\tremaining: 20.3ms\n",
      "3:\tlearn: 5046.0593431\ttest: 5171.2657168\tbest: 5171.2657168 (3)\ttotal: 45.3ms\tremaining: 11.3ms\n",
      "4:\tlearn: 4779.3942409\ttest: 4823.3890861\tbest: 4823.3890861 (4)\ttotal: 57.9ms\tremaining: 0us\n",
      "\n",
      "bestTest = 4823.389086\n",
      "bestIteration = 4\n",
      "\n",
      "Training on fold [2/5]\n",
      "0:\tlearn: 10876.4412810\ttest: 10593.4166271\tbest: 10593.4166271 (0)\ttotal: 16ms\tremaining: 64.2ms\n",
      "1:\tlearn: 7511.5472029\ttest: 7716.3641880\tbest: 7716.3641880 (1)\ttotal: 38.8ms\tremaining: 58.3ms\n",
      "2:\tlearn: 5693.8006500\ttest: 5926.4976881\tbest: 5926.4976881 (2)\ttotal: 48.8ms\tremaining: 32.5ms\n",
      "3:\tlearn: 4988.8210011\ttest: 5317.4650680\tbest: 5317.4650680 (3)\ttotal: 57.9ms\tremaining: 14.5ms\n",
      "4:\tlearn: 4744.9434987\ttest: 5092.7638700\tbest: 5092.7638700 (4)\ttotal: 67.2ms\tremaining: 0us\n",
      "\n",
      "bestTest = 5092.76387\n",
      "bestIteration = 4\n",
      "\n",
      "Training on fold [3/5]\n",
      "0:\tlearn: 11001.5957682\ttest: 9770.2781822\tbest: 9770.2781822 (0)\ttotal: 9.01ms\tremaining: 36ms\n",
      "1:\tlearn: 7658.6066499\ttest: 6814.4674269\tbest: 6814.4674269 (1)\ttotal: 22.5ms\tremaining: 33.8ms\n",
      "2:\tlearn: 5809.1640281\ttest: 5264.0409023\tbest: 5264.0409023 (2)\ttotal: 32ms\tremaining: 21.3ms\n",
      "3:\tlearn: 5122.0501560\ttest: 4688.9654272\tbest: 4688.9654272 (3)\ttotal: 38.6ms\tremaining: 9.66ms\n",
      "4:\tlearn: 4875.8441253\ttest: 4504.2816982\tbest: 4504.2816982 (4)\ttotal: 47.3ms\tremaining: 0us\n",
      "\n",
      "bestTest = 4504.281698\n",
      "bestIteration = 4\n",
      "\n",
      "Training on fold [4/5]\n",
      "0:\tlearn: 10579.4333072\ttest: 12486.9014610\tbest: 12486.9014610 (0)\ttotal: 11.5ms\tremaining: 45.8ms\n",
      "1:\tlearn: 7374.1153167\ttest: 8761.6596054\tbest: 8761.6596054 (1)\ttotal: 28.9ms\tremaining: 43.3ms\n",
      "2:\tlearn: 5584.8179584\ttest: 6568.4137326\tbest: 6568.4137326 (2)\ttotal: 41.3ms\tremaining: 27.5ms\n",
      "3:\tlearn: 4930.4098615\ttest: 5605.4309149\tbest: 5605.4309149 (3)\ttotal: 50.8ms\tremaining: 12.7ms\n",
      "4:\tlearn: 4699.8874661\ttest: 5245.8270133\tbest: 5245.8270133 (4)\ttotal: 61.9ms\tremaining: 0us\n",
      "\n",
      "bestTest = 5245.827013\n",
      "bestIteration = 4\n",
      "\n"
     ]
    }
   ],
   "source": [
    "from catboost import cv\n",
    "\n",
    "params = {\n",
    "    'loss_function': 'RMSE',\n",
    "    'iterations': 5,\n",
    "    # 'custom_loss': 'MAE',\n",
    "    'learning_rate': 0.5,\n",
    "}\n",
    "\n",
    "cv_data = cv(\n",
    "    params = params,\n",
    "    pool = train_pool,\n",
    "    fold_count=5,\n",
    "    shuffle=True,\n",
    "    plot=True,\n",
    "    stratified=False\n",
    ")"
   ]
  },
  {
   "cell_type": "code",
   "execution_count": 148,
   "metadata": {
    "id": "150e30gnMZQA",
    "outputId": "dd31b435-1188-437f-e043-d10ba6da5014"
   },
   "outputs": [
    {
     "data": {
      "text/html": [
       "<div>\n",
       "<style scoped>\n",
       "    .dataframe tbody tr th:only-of-type {\n",
       "        vertical-align: middle;\n",
       "    }\n",
       "\n",
       "    .dataframe tbody tr th {\n",
       "        vertical-align: top;\n",
       "    }\n",
       "\n",
       "    .dataframe thead th {\n",
       "        text-align: right;\n",
       "    }\n",
       "</style>\n",
       "<table border=\"1\" class=\"dataframe\">\n",
       "  <thead>\n",
       "    <tr style=\"text-align: right;\">\n",
       "      <th></th>\n",
       "      <th>iterations</th>\n",
       "      <th>test-RMSE-mean</th>\n",
       "      <th>test-RMSE-std</th>\n",
       "      <th>train-RMSE-mean</th>\n",
       "      <th>train-RMSE-std</th>\n",
       "    </tr>\n",
       "  </thead>\n",
       "  <tbody>\n",
       "    <tr>\n",
       "      <th>0</th>\n",
       "      <td>0</td>\n",
       "      <td>10910.552582</td>\n",
       "      <td>1079.964769</td>\n",
       "      <td>10858.930456</td>\n",
       "      <td>177.928727</td>\n",
       "    </tr>\n",
       "    <tr>\n",
       "      <th>1</th>\n",
       "      <td>1</td>\n",
       "      <td>7688.131595</td>\n",
       "      <td>759.830751</td>\n",
       "      <td>7532.286916</td>\n",
       "      <td>103.499961</td>\n",
       "    </tr>\n",
       "    <tr>\n",
       "      <th>2</th>\n",
       "      <td>2</td>\n",
       "      <td>5878.931108</td>\n",
       "      <td>475.681733</td>\n",
       "      <td>5702.507158</td>\n",
       "      <td>79.949880</td>\n",
       "    </tr>\n",
       "    <tr>\n",
       "      <th>3</th>\n",
       "      <td>3</td>\n",
       "      <td>5197.244618</td>\n",
       "      <td>331.709921</td>\n",
       "      <td>5009.393445</td>\n",
       "      <td>76.115483</td>\n",
       "    </tr>\n",
       "    <tr>\n",
       "      <th>4</th>\n",
       "      <td>4</td>\n",
       "      <td>4949.841276</td>\n",
       "      <td>291.660952</td>\n",
       "      <td>4760.460059</td>\n",
       "      <td>72.409281</td>\n",
       "    </tr>\n",
       "  </tbody>\n",
       "</table>\n",
       "</div>"
      ],
      "text/plain": [
       "   iterations  test-RMSE-mean  test-RMSE-std  train-RMSE-mean  train-RMSE-std\n",
       "0           0    10910.552582    1079.964769     10858.930456      177.928727\n",
       "1           1     7688.131595     759.830751      7532.286916      103.499961\n",
       "2           2     5878.931108     475.681733      5702.507158       79.949880\n",
       "3           3     5197.244618     331.709921      5009.393445       76.115483\n",
       "4           4     4949.841276     291.660952      4760.460059       72.409281"
      ]
     },
     "execution_count": 148,
     "metadata": {},
     "output_type": "execute_result"
    }
   ],
   "source": [
    "cv_data"
   ]
  },
  {
   "cell_type": "code",
   "execution_count": 150,
   "metadata": {
    "id": "JULYjE_xMZQD",
    "outputId": "a47e6e0a-b934-40f1-97c7-2421ac5e7164"
   },
   "outputs": [
    {
     "name": "stdout",
     "output_type": "stream",
     "text": [
      "Best validation RMSE score: 4949.8413±4949.8413 on iteration 4\n"
     ]
    }
   ],
   "source": [
    "best_value = np.min(cv_data['test-RMSE-mean'])\n",
    "best_iter = np.argmin(cv_data['test-RMSE-mean'])\n",
    "\n",
    "print('Best validation RMSE score: {:.4f}±{:.4f} on iteration {}'.format(\n",
    "    best_value,\n",
    "    cv_data['test-RMSE-mean'][best_iter],\n",
    "    best_iter)\n",
    ")"
   ]
  },
  {
   "cell_type": "markdown",
   "metadata": {
    "id": "HuBOhj9XMZQM"
   },
   "source": [
    "## Hyperparameter Tuning"
   ]
  },
  {
   "cell_type": "code",
   "execution_count": 152,
   "metadata": {
    "id": "24Ark8mHMZQO",
    "outputId": "b97537ce-61a4-4924-df72-a1a0559d2578"
   },
   "outputs": [
    {
     "name": "stdout",
     "output_type": "stream",
     "text": [
      "0:\tlearn: 12101.1885964\ttotal: 13.8ms\tremaining: 263ms\n",
      "19:\tlearn: 11945.5933585\ttotal: 280ms\tremaining: 0us\n",
      "0:\tlearn: 11968.0006121\ttotal: 11ms\tremaining: 210ms\n",
      "19:\tlearn: 11808.9334478\ttotal: 234ms\tremaining: 0us\n",
      "0:\tlearn: 11816.0675780\ttotal: 11.7ms\tremaining: 222ms\n",
      "19:\tlearn: 11653.8141827\ttotal: 374ms\tremaining: 0us\n",
      "0:\tlearn: 12021.0930219\ttotal: 9.89ms\tremaining: 188ms\n",
      "19:\tlearn: 10563.0000735\ttotal: 255ms\tremaining: 0us\n",
      "0:\tlearn: 11893.2730390\ttotal: 12.4ms\tremaining: 236ms\n",
      "19:\tlearn: 10441.0750438\ttotal: 255ms\tremaining: 0us\n",
      "0:\tlearn: 11738.7280820\ttotal: 10.9ms\tremaining: 206ms\n",
      "19:\tlearn: 10253.6015209\ttotal: 271ms\tremaining: 0us\n",
      "0:\tlearn: 7978.5386760\ttotal: 10.4ms\tremaining: 197ms\n",
      "19:\tlearn: 4298.3894185\ttotal: 314ms\tremaining: 0us\n",
      "0:\tlearn: 8058.9321400\ttotal: 13.9ms\tremaining: 264ms\n",
      "19:\tlearn: 4061.8040490\ttotal: 303ms\tremaining: 0us\n",
      "0:\tlearn: 7780.7621946\ttotal: 13.8ms\tremaining: 262ms\n",
      "19:\tlearn: 3880.3716319\ttotal: 299ms\tremaining: 0us\n",
      "0:\tlearn: 7608.2906506\ttotal: 8.02ms\tremaining: 152ms\n",
      "19:\tlearn: 4126.1191407\ttotal: 285ms\tremaining: 0us\n"
     ]
    },
    {
     "data": {
      "text/plain": [
       "{'iterations': 20,\n",
       " 'loss_function': 'RMSE',\n",
       " 'verbose': 20,\n",
       " 'cat_features': [1, 3, 4, 5],\n",
       " 'learning_rate': 0.5}"
      ]
     },
     "execution_count": 152,
     "metadata": {},
     "output_type": "execute_result"
    }
   ],
   "source": [
    "from sklearn.model_selection import GridSearchCV\n",
    "\n",
    "param_grid = {\n",
    "    \"learning_rate\": [0.001, 0.01, 0.5],\n",
    "}\n",
    "\n",
    "clf = CatBoostRegressor(\n",
    "    iterations=20,\n",
    "    cat_features=cat_features,\n",
    "    verbose=20\n",
    ")\n",
    "grid_search = GridSearchCV(clf, param_grid=param_grid, cv=3)\n",
    "results = grid_search.fit(X_train, y_train)\n",
    "results.best_estimator_.get_params()"
   ]
  },
  {
   "cell_type": "code",
   "execution_count": null,
   "metadata": {
    "id": "ZEByAldqCQwS"
   },
   "outputs": [],
   "source": []
  }
 ],
 "metadata": {
  "colab": {
   "collapsed_sections": [
    "Yz77pQTwMZPM",
    "rjZ-oiQ5MZPO",
    "9CLRhxKWMZPS",
    "TKEzlqkQMZPW",
    "aHKxnZ5yMZPZ",
    "yWlu5XJ8MZPq",
    "1Ruo2JedMZP9",
    "HuBOhj9XMZQM",
    "1QXMSJUXMZQS",
    "Ligv5PbsMZQb",
    "ZtWqD3KyMZQl",
    "E7STjxPJMZQ3",
    "Ntw1PGCaMZRJ",
    "h2UgaxQRMZRN",
    "NIV5PH01MZRP",
    "3w7nCbTvMZRa",
    "On6Px4N2MZRm",
    "qHgk_jAVMZR-",
    "CSrUndATMZSI",
    "-Heg_zVIMZSQ"
   ],
   "provenance": []
  },
  "kernelspec": {
   "display_name": "Python 3 (ipykernel)",
   "language": "python",
   "name": "python3"
  },
  "language_info": {
   "codemirror_mode": {
    "name": "ipython",
    "version": 3
   },
   "file_extension": ".py",
   "mimetype": "text/x-python",
   "name": "python",
   "nbconvert_exporter": "python",
   "pygments_lexer": "ipython3",
   "version": "3.12.4"
  },
  "toc": {
   "base_numbering": 1,
   "nav_menu": {},
   "number_sections": true,
   "sideBar": true,
   "skip_h1_title": false,
   "title_cell": "Table of Contents",
   "title_sidebar": "Contents",
   "toc_cell": true,
   "toc_position": {},
   "toc_section_display": true,
   "toc_window_display": false
  },
  "varInspector": {
   "cols": {
    "lenName": 16,
    "lenType": 16,
    "lenVar": 40
   },
   "kernels_config": {
    "python": {
     "delete_cmd_postfix": "",
     "delete_cmd_prefix": "del ",
     "library": "var_list.py",
     "varRefreshCmd": "print(var_dic_list())"
    },
    "r": {
     "delete_cmd_postfix": ") ",
     "delete_cmd_prefix": "rm(",
     "library": "var_list.r",
     "varRefreshCmd": "cat(var_dic_list()) "
    }
   },
   "types_to_exclude": [
    "module",
    "function",
    "builtin_function_or_method",
    "instance",
    "_Feature"
   ],
   "window_display": false
  }
 },
 "nbformat": 4,
 "nbformat_minor": 4
}
